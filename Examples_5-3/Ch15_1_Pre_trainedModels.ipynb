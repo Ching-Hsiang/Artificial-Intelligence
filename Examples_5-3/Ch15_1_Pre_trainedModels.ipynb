{
  "nbformat": 4,
  "nbformat_minor": 0,
  "metadata": {
    "colab": {
      "name": "Ch15_1_Pre-trainedModels",
      "provenance": [],
      "collapsed_sections": []
    },
    "kernelspec": {
      "name": "python3",
      "display_name": "Python 3"
    },
    "accelerator": "GPU"
  },
  "cells": [
    {
      "cell_type": "markdown",
      "source": [
        "# 預訓練模型 Pre-trained Models\n",
        "TensorFlow中的Keras內建了一些已經成功完成訓練的深度學習模型。除了模型結構外，還包含預訓練的權重，所以也稱為「預訓練模型」。\n",
        "\n",
        "## Keras內建可用的預訓練模型列表\n",
        "https://www.tensorflow.org/api_docs/python/tf/keras/applications\n",
        "\n",
        "各個模型的比較（模型大小、參數量、層數、準確度、推論時間）\n",
        "https://keras.io/api/applications/\n",
        "\n",
        "### 在Colab環境中使用Keras預訓練模型\n",
        "呼叫函式庫與模組後，可以馬上使用這些預訓練模型來進行預測、特徵萃取和微調模型。權重檔在使用模型時會自動下載。Keras內建的每一種預訓練模型都有對應的模組，只要匯入深度學習的物件後，就完成了模型的建立。\n",
        "\n",
        "建立模型時主要有兩個參數：\n",
        "1. **weights參數**：模型使用的權重，參數值使用imagenet，指的是使用ImageNet的預訓練權重，其訓練資料集有100萬張圖片(1,281,167 training images)，分類成1000種類別。參數值若使用None，代表只使用模型結構，權重則需要自行訓練。\n",
        "1000種類別之清單可參考此網頁：https://deeplearning.cms.waikato.ac.nz/user-guide/class-maps/IMAGENET/\n",
        "2. **include_top參數**：是否包含模型頂部的全連接層，這是指平坦層後的分類神經層。參數值True代表要包含；False表示模型不包含全連接層，只使用特徵萃取的神經層，而我們自行新增所需的全連接層，這部分稱做遷移學習/轉移學習(Transfer Learning)。"
      ],
      "metadata": {
        "id": "qreGOSYgC2vD"
      }
    },
    {
      "cell_type": "markdown",
      "source": [
        "### 使用MobileNetV2預訓練模型\n",
        "MobileNetV2模型所輸入的圖片尺寸為224*224\n",
        "\n",
        "關於MobileNet模型簡介的參考資料：\n",
        "\n",
        "* https://iter01.com/590254.html\n",
        "* https://chihangchen.medium.com/%E8%AB%96%E6%96%87%E7%AD%86%E8%A8%98-mobilenetv3%E6%BC%94%E8%AE%8A%E5%8F%B2-f5de728725bc\n",
        "\n"
      ],
      "metadata": {
        "id": "SkgMaMdEASNE"
      }
    },
    {
      "cell_type": "code",
      "source": [
        "import tensorflow\n",
        "from tensorflow.keras.preprocessing.image import img_to_array\n",
        "from tensorflow.keras.preprocessing.image import load_img\n",
        "from tensorflow.keras.applications.mobilenet_v2 import MobileNetV2     #載入MobileNet相關的函式庫\n",
        "from tensorflow.keras.applications.mobilenet_v2 import preprocess_input\n",
        "from tensorflow.keras.applications.mobilenet_v2 import decode_predictions"
      ],
      "metadata": {
        "id": "3h2T_b1zBFHv"
      },
      "execution_count": null,
      "outputs": []
    },
    {
      "cell_type": "code",
      "source": [
        "# 建立 MobileNet 模型\n",
        "model = MobileNetV2(weights=\"imagenet\", include_top=True) "
      ],
      "metadata": {
        "id": "qYvrmeS6GHVL"
      },
      "execution_count": null,
      "outputs": []
    },
    {
      "cell_type": "code",
      "source": [
        "# 載入測試圖片\n",
        "img = load_img(\"koala.png\", target_size=(224, 224))\n",
        "x = img_to_array(img)    # 轉換成 Numpy陣列\n",
        "print(\"x.shape: \", x.shape)"
      ],
      "metadata": {
        "colab": {
          "base_uri": "https://localhost:8080/"
        },
        "id": "JL6MBcLZzrtU",
        "outputId": "35305b4d-e3e4-42db-eb62-9cf12dcef057"
      },
      "execution_count": null,
      "outputs": [
        {
          "output_type": "stream",
          "name": "stdout",
          "text": [
            "x.shape:  (224, 224, 3)\n"
          ]
        }
      ]
    },
    {
      "cell_type": "code",
      "source": [
        "# Reshape (1, 224, 224, 3)\n",
        "img = x.reshape((1, x.shape[0], x.shape[1], x.shape[2]))\n",
        "# 資料預處理\n",
        "img = preprocess_input(img)\n",
        "print(\"img.shape: \", img.shape)"
      ],
      "metadata": {
        "colab": {
          "base_uri": "https://localhost:8080/"
        },
        "id": "Ez6gYXSyzuPu",
        "outputId": "9f72d168-a177-4a41-a936-969403bd38cc"
      },
      "execution_count": null,
      "outputs": [
        {
          "output_type": "stream",
          "name": "stdout",
          "text": [
            "img.shape:  (1, 224, 224, 3)\n"
          ]
        }
      ]
    },
    {
      "cell_type": "code",
      "source": [
        "# 使用模型進行預測\n",
        "Y_pred = model.predict(img)"
      ],
      "metadata": {
        "id": "yTwVf8Z0zweo"
      },
      "execution_count": null,
      "outputs": []
    },
    {
      "cell_type": "code",
      "source": [
        "# 解碼預測結果\n",
        "label = decode_predictions(Y_pred)\n",
        "result = label[0][0]  # 取得最可能的結果\n",
        "print(\"%s (%.2f%%)\" % (result[1], result[2]*100))"
      ],
      "metadata": {
        "colab": {
          "base_uri": "https://localhost:8080/"
        },
        "id": "AJ-rsBPSzyDh",
        "outputId": "305f9935-7233-46ca-8632-fc5d0d13398e"
      },
      "execution_count": null,
      "outputs": [
        {
          "output_type": "stream",
          "name": "stdout",
          "text": [
            "koala (77.32%)\n"
          ]
        }
      ]
    },
    {
      "cell_type": "markdown",
      "source": [
        "### 使用ResNet50預訓練模型\n",
        "ResNet50模型所輸入的圖片尺寸為224*224\n",
        "\n",
        "關於ResNet50模型簡介的參考資料：https://ithelp.ithome.com.tw/m/articles/10264843"
      ],
      "metadata": {
        "id": "ww8psX8A01B8"
      }
    },
    {
      "cell_type": "code",
      "source": [
        "from tensorflow.keras.preprocessing.image import img_to_array\n",
        "from tensorflow.keras.preprocessing.image import load_img\n",
        "from tensorflow.keras.applications.resnet50 import ResNet50     #載入ResNet50相關的函式庫\n",
        "from tensorflow.keras.applications.resnet50 import preprocess_input\n",
        "from tensorflow.keras.applications.resnet50 import decode_predictions"
      ],
      "metadata": {
        "id": "TwuKDUMA019E"
      },
      "execution_count": null,
      "outputs": []
    },
    {
      "cell_type": "code",
      "source": [
        "# 建立 RasNet50 模型\n",
        "model = ResNet50(weights=\"imagenet\", include_top=True) \n",
        "# 載入測試圖片\n",
        "img = load_img(\"koala.png\", target_size=(224, 224))\n",
        "x = img_to_array(img)    # 轉換成 Numpy陣列\n",
        "print(\"x.shape: \", x.shape)\n",
        "# Reshape (1, 224, 224, 3)\n",
        "img = x.reshape((1, x.shape[0], x.shape[1], x.shape[2]))\n",
        "# 資料預處理\n",
        "img = preprocess_input(img)\n",
        "print(\"img.shape: \", img.shape)"
      ],
      "metadata": {
        "colab": {
          "base_uri": "https://localhost:8080/"
        },
        "id": "HcAZuyqF04YS",
        "outputId": "8c931ae5-d6b5-47a6-b4e2-9d06df5923ba"
      },
      "execution_count": null,
      "outputs": [
        {
          "output_type": "stream",
          "name": "stdout",
          "text": [
            "x.shape:  (224, 224, 3)\n",
            "img.shape:  (1, 224, 224, 3)\n"
          ]
        }
      ]
    },
    {
      "cell_type": "code",
      "source": [
        "# 使用模型進行預測\n",
        "Y_pred = model.predict(img)\n",
        "# 解碼預測結果\n",
        "label = decode_predictions(Y_pred)\n",
        "result = label[0][0]  # 取得最可能的結果\n",
        "print(\"%s (%.2f%%)\" % (result[1], result[2]*100))"
      ],
      "metadata": {
        "colab": {
          "base_uri": "https://localhost:8080/"
        },
        "id": "qLiuQk3f08VC",
        "outputId": "9a8fe95d-d718-4ef8-ee65-8f52682e9114"
      },
      "execution_count": null,
      "outputs": [
        {
          "output_type": "stream",
          "name": "stdout",
          "text": [
            "koala (99.93%)\n"
          ]
        }
      ]
    },
    {
      "cell_type": "markdown",
      "source": [
        "### 使用InceptionV3預訓練模型\n",
        "InceptionV3模型所輸入的圖片尺寸為299*299\n",
        "\n",
        "關於InceptionV3模型簡介的參考資料：\n",
        "https://medium.com/ching-i/inception-%E7%B3%BB%E5%88%97-inceptionv2-inceptionv3-93cd42054d23"
      ],
      "metadata": {
        "id": "QzHciJ0j1NqF"
      }
    },
    {
      "cell_type": "code",
      "source": [
        "from tensorflow.keras.preprocessing.image import img_to_array\n",
        "from tensorflow.keras.preprocessing.image import load_img\n",
        "from tensorflow.keras.applications.inception_v3 import InceptionV3    #載入InceptionV3相關的函式庫\n",
        "from tensorflow.keras.applications.inception_v3 import preprocess_input\n",
        "from tensorflow.keras.applications.inception_v3 import decode_predictions"
      ],
      "metadata": {
        "id": "CTjCXxd41VgG"
      },
      "execution_count": null,
      "outputs": []
    },
    {
      "cell_type": "code",
      "source": [
        "# 建立 InceptionV3 模型\n",
        "model = InceptionV3(weights=\"imagenet\", include_top=True) \n",
        "# 載入測試圖片\n",
        "img = load_img(\"koala.png\", target_size=(299, 299))\n",
        "x = img_to_array(img)    # 轉換成 Numpy陣列\n",
        "print(\"x.shape: \", x.shape)\n",
        "# Reshape (1, 299, 299, 3)\n",
        "img = x.reshape((1, x.shape[0], x.shape[1], x.shape[2]))\n",
        "# 資料預處理\n",
        "img = preprocess_input(img)\n",
        "print(\"img.shape: \", img.shape)"
      ],
      "metadata": {
        "colab": {
          "base_uri": "https://localhost:8080/"
        },
        "id": "C93rPAkK1YFM",
        "outputId": "3459def3-daa9-4d2f-d136-a94e6bc27669"
      },
      "execution_count": null,
      "outputs": [
        {
          "output_type": "stream",
          "name": "stdout",
          "text": [
            "x.shape:  (299, 299, 3)\n",
            "img.shape:  (1, 299, 299, 3)\n"
          ]
        }
      ]
    },
    {
      "cell_type": "code",
      "source": [
        "# 使用模型進行預測\n",
        "Y_pred = model.predict(img)\n",
        "# 解碼預測結果\n",
        "label = decode_predictions(Y_pred)\n",
        "result = label[0][0]  # 取得最可能的結果\n",
        "print(\"%s (%.2f%%)\" % (result[1], result[2]*100))"
      ],
      "metadata": {
        "colab": {
          "base_uri": "https://localhost:8080/"
        },
        "id": "xjdSJvKs1Zgs",
        "outputId": "9d20cee4-3bf5-4850-e577-4641fc932952"
      },
      "execution_count": null,
      "outputs": [
        {
          "output_type": "stream",
          "name": "stdout",
          "text": [
            "koala (91.51%)\n"
          ]
        }
      ]
    },
    {
      "cell_type": "markdown",
      "source": [
        "### 使用VGG16預訓練模型\n",
        "VGG16模型所輸入的圖片尺寸為224*224\n",
        "\n",
        "關於VGG16模型簡介的參考資料：\n",
        "https://ithelp.ithome.com.tw/articles/10192162\n"
      ],
      "metadata": {
        "id": "7rle8Hfz1srm"
      }
    },
    {
      "cell_type": "code",
      "source": [
        "from tensorflow.keras.preprocessing.image import img_to_array\n",
        "from tensorflow.keras.preprocessing.image import load_img\n",
        "from tensorflow.keras.applications.vgg16 import VGG16       #載入VGG16相關的函式庫\n",
        "from tensorflow.keras.applications.vgg16 import preprocess_input\n",
        "from tensorflow.keras.applications.vgg16 import decode_predictions"
      ],
      "metadata": {
        "id": "0F0lf9jp1wrr"
      },
      "execution_count": null,
      "outputs": []
    },
    {
      "cell_type": "code",
      "source": [
        "# 建立 VGG16 模型\n",
        "model = VGG16(weights=\"imagenet\", include_top=True) \n",
        "# 載入測試圖片\n",
        "img = load_img(\"koala.png\", target_size=(224, 224))\n",
        "x = img_to_array(img)    # 轉換成 Numpy陣列\n",
        "print(\"x.shape: \", x.shape)\n",
        "# Reshape (1, 224, 224, 3)\n",
        "img = x.reshape((1, x.shape[0], x.shape[1], x.shape[2]))\n",
        "# 資料預處理\n",
        "img = preprocess_input(img)\n",
        "print(\"img.shape: \", img.shape)\n",
        "# 使用模型進行預測\n",
        "Y_pred = model.predict(img)\n",
        "# 解碼預測結果\n",
        "label = decode_predictions(Y_pred)\n",
        "result = label[0][0]  # 取得最可能的結果\n",
        "print(\"%s (%.2f%%)\" % (result[1], result[2]*100))"
      ],
      "metadata": {
        "colab": {
          "base_uri": "https://localhost:8080/"
        },
        "id": "BT5GMoUj1x1f",
        "outputId": "0974b12f-8eab-40f0-9307-ea6a4bda2e8a"
      },
      "execution_count": null,
      "outputs": [
        {
          "output_type": "stream",
          "name": "stdout",
          "text": [
            "x.shape:  (224, 224, 3)\n",
            "img.shape:  (1, 224, 224, 3)\n",
            "koala (100.00%)\n"
          ]
        }
      ]
    },
    {
      "cell_type": "code",
      "source": [
        ""
      ],
      "metadata": {
        "id": "Y00PVOEv10GT"
      },
      "execution_count": null,
      "outputs": []
    }
  ]
}