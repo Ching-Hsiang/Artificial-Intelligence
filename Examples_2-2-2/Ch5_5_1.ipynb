{
  "cells": [
    {
      "cell_type": "markdown",
      "source": [
        "# 載入函式庫與資料集"
      ],
      "metadata": {
        "id": "h8WAS3v4Ar79"
      }
    },
    {
      "cell_type": "code",
      "execution_count": null,
      "metadata": {
        "id": "YKyrRs9SHKh3"
      },
      "outputs": [],
      "source": [
        "import numpy as np\n",
        "import pandas as pd\n",
        "from tensorflow.keras.models import Sequential\n",
        "from tensorflow.keras.layers import Dense"
      ]
    },
    {
      "cell_type": "code",
      "execution_count": null,
      "metadata": {
        "id": "0yQJECERRmSF"
      },
      "outputs": [],
      "source": [
        "np.random.seed(10)  # 指定亂數種子\n",
        "# 載入波士頓房屋資料集\n",
        "df = pd.read_csv(\"./boston_housing.csv\")"
      ]
    },
    {
      "cell_type": "code",
      "source": [
        "df.head()"
      ],
      "metadata": {
        "id": "1C49gGDJAgUo"
      },
      "execution_count": null,
      "outputs": []
    },
    {
      "cell_type": "code",
      "source": [
        "df.shape"
      ],
      "metadata": {
        "id": "zPDNIKsmAjvC"
      },
      "execution_count": null,
      "outputs": []
    },
    {
      "cell_type": "markdown",
      "source": [
        "# 資料前處理"
      ],
      "metadata": {
        "id": "WC4JM6sjAMtN"
      }
    },
    {
      "cell_type": "code",
      "source": [
        "dataset = df.values\n",
        "np.random.shuffle(dataset)  # 使用亂數打亂資料\n",
        "\n",
        "# 分割成特徵資料和標籤資料\n",
        "X = dataset[:, 0:13]\n",
        "Y = dataset[:, 13]\n",
        "\n",
        "# 特徵標準化\n",
        "X -= X.mean(axis=0)\n",
        "X /= X.std(axis=0)\n",
        "\n",
        "# 分割訓練和測試資料集\n",
        "X_train, Y_train = X[:404], Y[:404]  # 訓練資料前404筆\n",
        "X_test, Y_test = X[404:], Y[404:]   # 測試資料後102筆"
      ],
      "metadata": {
        "id": "WcwjtNHjSWVo"
      },
      "execution_count": null,
      "outputs": []
    },
    {
      "cell_type": "markdown",
      "source": [
        "# 打造模型"
      ],
      "metadata": {
        "id": "JhOxilGPMngI"
      }
    },
    {
      "cell_type": "code",
      "source": [
        "# 定義模型\n",
        "model = Sequential()\n",
        "model.add(Dense(32, input_shape=(X_train.shape[1],), activation=\"relu\"))\n",
        "model.add(Dense(32, activation=\"relu\"))\n",
        "model.add(Dense(1))\n",
        "# 編譯模型\n",
        "model.compile(loss=\"mse\", optimizer=\"adam\", metrics=[\"mae\"])"
      ],
      "metadata": {
        "id": "SRvM7SOUBrkg"
      },
      "execution_count": null,
      "outputs": []
    },
    {
      "cell_type": "code",
      "source": [
        "# 訓練模型\n",
        "model.fit(X_train, Y_train, epochs=80, batch_size=16, verbose=0)"
      ],
      "metadata": {
        "id": "mS3q-HCdMtUC"
      },
      "execution_count": null,
      "outputs": []
    },
    {
      "cell_type": "code",
      "source": [
        "# 使用測試資料評估模型\n",
        "mse, mae = model.evaluate(X_test, Y_test, verbose=0)    \n",
        "print(\"MSE_test: \", mse)\n",
        "print(\"MAE_test: \", mae)"
      ],
      "metadata": {
        "id": "HG3t9SZcMu3M"
      },
      "execution_count": null,
      "outputs": []
    },
    {
      "cell_type": "markdown",
      "source": [
        "# 儲存模型 \n",
        "## 兩種方法，擇一執行即可"
      ],
      "metadata": {
        "id": "kOiWUwLUREKt"
      }
    },
    {
      "cell_type": "code",
      "source": [
        "# 儲存模型結構\n",
        "json_str = model.to_json()\n",
        "with open(\"Ch5_5_1Model.config\", \"w\") as text_file:\n",
        "    text_file.write(json_str)\n",
        "# 儲存模型權重\n",
        "model.save_weights(\"Ch5_5_1Model.weight\")"
      ],
      "metadata": {
        "id": "-0-cl_BCRGop"
      },
      "execution_count": null,
      "outputs": []
    },
    {
      "cell_type": "code",
      "source": [
        "# 一次儲存模型結構和權重\n",
        "model.save(\"Ch5_5_1a.h5\")"
      ],
      "metadata": {
        "id": "6fGQCxm2RS5_"
      },
      "execution_count": null,
      "outputs": []
    }
  ],
  "metadata": {
    "colab": {
      "name": "Ch5_5_1",
      "provenance": [],
      "collapsed_sections": [
        "h8WAS3v4Ar79",
        "WC4JM6sjAMtN",
        "JhOxilGPMngI"
      ]
    },
    "kernelspec": {
      "display_name": "Python 3",
      "language": "python",
      "name": "python3"
    },
    "language_info": {
      "codemirror_mode": {
        "name": "ipython",
        "version": 3
      },
      "file_extension": ".py",
      "mimetype": "text/x-python",
      "name": "python",
      "nbconvert_exporter": "python",
      "pygments_lexer": "ipython3",
      "version": "3.7.4"
    }
  },
  "nbformat": 4,
  "nbformat_minor": 0
}