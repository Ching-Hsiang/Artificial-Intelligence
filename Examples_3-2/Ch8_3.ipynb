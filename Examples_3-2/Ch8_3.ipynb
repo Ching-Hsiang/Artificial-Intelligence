{
  "cells": [
    {
      "cell_type": "code",
      "source": [
        "import numpy as np\n",
        "from tensorflow.keras.models import Sequential\n",
        "from tensorflow.keras.layers import Dense\n",
        "from tensorflow.keras.layers import Flatten\n",
        "from tensorflow.keras.layers import Conv2D\n",
        "from tensorflow.keras.layers import MaxPooling2D\n",
        "from tensorflow.keras.layers import Dropout\n",
        "from tensorflow.keras.utils import to_categorical\n",
        "import matplotlib.pyplot as plt\n",
        "\n",
        "from tensorflow.keras.datasets import mnist"
      ],
      "metadata": {
        "id": "0BYRhIjgoKoz"
      },
      "execution_count": null,
      "outputs": []
    },
    {
      "cell_type": "code",
      "source": [
        "# 指定亂數種子\n",
        "seed = 7\n",
        "np.random.seed(seed)"
      ],
      "metadata": {
        "id": "wYGflrjHnvET"
      },
      "execution_count": null,
      "outputs": []
    },
    {
      "cell_type": "code",
      "source": [
        "# 載入 MNIST 資料集, 如果是第一次載入會自行下載資料集\n",
        "(X_train, Y_train), (X_test, Y_test) = mnist.load_data()"
      ],
      "metadata": {
        "id": "d-WipBWhoOKT"
      },
      "execution_count": null,
      "outputs": []
    },
    {
      "cell_type": "markdown",
      "source": [
        "## 圖檔前處理"
      ],
      "metadata": {
        "id": "DwxtcKfdoAKV"
      }
    },
    {
      "cell_type": "code",
      "source": [
        "# 將圖片轉換成 4D 張量 (與MLP所使用的不同)\n",
        "X_train = X_train.reshape(X_train.shape[0], 28, 28, 1).astype(\"float32\")\n",
        "X_test = X_test.reshape(X_test.shape[0], 28, 28, 1).astype(\"float32\")\n",
        "print(\"X_train Shape: \", X_train.shape)\n",
        "print(\"X_test Shape: \", X_test.shape)"
      ],
      "metadata": {
        "id": "3Yf9JZ63nkzw"
      },
      "execution_count": null,
      "outputs": []
    },
    {
      "cell_type": "code",
      "source": [
        "# 因為是固定範圍, 所以執行正規化, 從 0-255 至 0-1\n",
        "X_train = X_train / 255\n",
        "X_test = X_test / 255"
      ],
      "metadata": {
        "id": "5vS3CFBNoJXf"
      },
      "execution_count": null,
      "outputs": []
    },
    {
      "cell_type": "code",
      "source": [
        "# One-hot編碼\n",
        "Y_train = to_categorical(Y_train)\n",
        "Y_test = to_categorical(Y_test)"
      ],
      "metadata": {
        "id": "ckqIiBqYoMGt"
      },
      "execution_count": null,
      "outputs": []
    },
    {
      "cell_type": "markdown",
      "source": [
        "## 訓練CNN模型"
      ],
      "metadata": {
        "id": "NjkbaSU9o1QD"
      }
    },
    {
      "cell_type": "code",
      "source": [
        "model = Sequential()\n",
        "model.add(Conv2D(16, kernel_size=(5, 5), padding=\"same\", input_shape=(28, 28, 1), activation=\"relu\"))\n",
        "model.add(MaxPooling2D(pool_size=(2, 2)))\n",
        "model.add(Conv2D(32, kernel_size=(5, 5), padding=\"same\", activation=\"relu\"))\n",
        "model.add(MaxPooling2D(pool_size=(2, 2)))\n",
        "model.add(Dropout(0.5))\n",
        "model.add(Flatten())\n",
        "model.add(Dense(128, activation=\"relu\"))\n",
        "model.add(Dropout(0.5))\n",
        "model.add(Dense(10, activation=\"softmax\"))\n",
        "model.summary()   # 顯示模型摘要資訊"
      ],
      "metadata": {
        "id": "-0mpRoFPoOM_"
      },
      "execution_count": null,
      "outputs": []
    },
    {
      "cell_type": "code",
      "source": [
        "# 編譯模型\n",
        "model.compile(loss=\"categorical_crossentropy\", optimizer=\"adam\", metrics=[\"accuracy\"])"
      ],
      "metadata": {
        "id": "0AUvqZ0doi_9"
      },
      "execution_count": null,
      "outputs": []
    },
    {
      "cell_type": "code",
      "source": [
        "# 訓練模型\n",
        "history = model.fit(X_train, Y_train, validation_split=0.2, epochs=10, batch_size=128, verbose=2)"
      ],
      "metadata": {
        "id": "RZMOkOp0olc_"
      },
      "execution_count": null,
      "outputs": []
    },
    {
      "cell_type": "code",
      "source": [
        "# 評估模型\n",
        "print(\"\\nTesting ...\")\n",
        "loss, accuracy = model.evaluate(X_train, Y_train, verbose=0)\n",
        "print(\"訓練資料集的準確度 = {:.4f}\".format(accuracy))\n",
        "loss, accuracy = model.evaluate(X_test, Y_test, verbose=0)\n",
        "print(\"測試資料集的準確度 = {:.4f}\".format(accuracy))"
      ],
      "metadata": {
        "id": "NYnkRhHNon5l"
      },
      "execution_count": null,
      "outputs": []
    },
    {
      "cell_type": "markdown",
      "source": [
        "## 顯示圖表來分析模型的訓練過程"
      ],
      "metadata": {
        "id": "ujD4wLszoxl3"
      }
    },
    {
      "cell_type": "code",
      "source": [
        "# 顯示訓練和驗證損失\n",
        "loss = history.history[\"loss\"]\n",
        "epochs = range(1, len(loss)+1)\n",
        "val_loss = history.history[\"val_loss\"]\n",
        "plt.plot(epochs, loss, \"bo-\", label=\"Training Loss\")\n",
        "plt.plot(epochs, val_loss, \"ro--\", label=\"Validation Loss\")\n",
        "plt.title(\"Training and Validation Loss\")\n",
        "plt.xlabel(\"Epochs\")\n",
        "plt.ylabel(\"Loss\")\n",
        "plt.legend()\n",
        "plt.show()\n"
      ],
      "metadata": {
        "id": "Tfs2Uhk-oqpN"
      },
      "execution_count": null,
      "outputs": []
    },
    {
      "cell_type": "code",
      "source": [
        "# 顯示訓練和驗證準確度\n",
        "acc = history.history[\"accuracy\"]\n",
        "epochs = range(1, len(acc)+1)\n",
        "val_acc = history.history[\"val_accuracy\"]\n",
        "plt.plot(epochs, acc, \"bo-\", label=\"Training Acc\")\n",
        "plt.plot(epochs, val_acc, \"ro--\", label=\"Validation Acc\")\n",
        "plt.title(\"Training and Validation Accuracy\")\n",
        "plt.xlabel(\"Epochs\")\n",
        "plt.ylabel(\"Accuracy\")\n",
        "plt.legend()\n",
        "plt.show()"
      ],
      "metadata": {
        "id": "C34ayxxJoswE"
      },
      "execution_count": null,
      "outputs": []
    },
    {
      "cell_type": "code",
      "source": [
        ""
      ],
      "metadata": {
        "id": "GxMQecz7pZJc"
      },
      "execution_count": null,
      "outputs": []
    }
  ],
  "metadata": {
    "colab": {
      "name": "Ch8_3",
      "provenance": [],
      "collapsed_sections": []
    },
    "kernelspec": {
      "display_name": "Python 3",
      "language": "python",
      "name": "python3"
    },
    "language_info": {
      "codemirror_mode": {
        "name": "ipython",
        "version": 3
      },
      "file_extension": ".py",
      "mimetype": "text/x-python",
      "name": "python",
      "nbconvert_exporter": "python",
      "pygments_lexer": "ipython3",
      "version": "3.7.4"
    },
    "accelerator": "GPU"
  },
  "nbformat": 4,
  "nbformat_minor": 0
}