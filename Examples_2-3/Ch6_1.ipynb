{
  "cells": [
    {
      "cell_type": "markdown",
      "source": [
        "# 載入函式庫與資料集"
      ],
      "metadata": {
        "id": "h8WAS3v4Ar79"
      }
    },
    {
      "cell_type": "code",
      "execution_count": null,
      "metadata": {
        "id": "YKyrRs9SHKh3"
      },
      "outputs": [],
      "source": [
        "import numpy as np\n",
        "import pandas as pd\n",
        "from tensorflow.keras.models import Sequential\n",
        "from tensorflow.keras.layers import Dense\n",
        "from tensorflow.keras.utils import to_categorical"
      ]
    },
    {
      "cell_type": "code",
      "execution_count": null,
      "metadata": {
        "id": "0yQJECERRmSF"
      },
      "outputs": [],
      "source": [
        "np.random.seed(627)  # 指定亂數種子：只要不更改，每次運作時即可保持再現性\n",
        "# 載入資料集\n",
        "df = pd.read_csv(\"./iris_data.csv\")\n",
        "target_mapping = {\"setosa\": 0,\n",
        "          \"versicolor\": 1,\n",
        "          \"virginica\": 2}"
      ]
    },
    {
      "cell_type": "code",
      "source": [
        "# 查看前5筆記錄\n",
        "df.head()"
      ],
      "metadata": {
        "id": "1C49gGDJAgUo"
      },
      "execution_count": null,
      "outputs": []
    },
    {
      "cell_type": "code",
      "source": [
        "# 顯示資料集的形狀\n",
        "df.shape"
      ],
      "metadata": {
        "id": "zPDNIKsmAjvC"
      },
      "execution_count": null,
      "outputs": []
    },
    {
      "cell_type": "code",
      "source": [
        "# 顯示資料集的描述資料\n",
        "df.describe()"
      ],
      "metadata": {
        "id": "hET2g-ef7Tm5"
      },
      "execution_count": null,
      "outputs": []
    },
    {
      "cell_type": "markdown",
      "source": [
        "# 視覺化呈現資料"
      ],
      "metadata": {
        "id": "cWbMSGd57aYI"
      }
    },
    {
      "cell_type": "code",
      "source": [
        "import matplotlib.pyplot as plt\n",
        "import seaborn as sns"
      ],
      "metadata": {
        "id": "jvi3H8jv7X6A"
      },
      "execution_count": null,
      "outputs": []
    },
    {
      "cell_type": "code",
      "source": [
        "Y = df[\"target\"].map(target_mapping)"
      ],
      "metadata": {
        "id": "kFKfc3Ag7i5o"
      },
      "execution_count": null,
      "outputs": []
    },
    {
      "cell_type": "code",
      "source": [
        "# 使用Matplotlib顯示視覺化圖表\n",
        "colmap = np.array([\"r\", \"g\", \"y\"])\n",
        "plt.figure(figsize=(10,5))\n",
        "plt.subplot(1, 2, 1)\n",
        "plt.subplots_adjust(hspace = .5)\n",
        "plt.scatter(df[\"sepal_length\"], df[\"sepal_width\"], color=colmap[Y])\n",
        "plt.xlabel(\"Sepal Length\")\n",
        "plt.ylabel(\"Sepal Width\")\n",
        "plt.subplot(1, 2, 2)\n",
        "plt.scatter(df[\"petal_length\"], df[\"petal_width\"], color=colmap[Y])\n",
        "plt.xlabel(\"Petal Length\")\n",
        "plt.ylabel(\"Petal Width\")\n",
        "plt.show()"
      ],
      "metadata": {
        "id": "OB4Xkx5W7n31"
      },
      "execution_count": null,
      "outputs": []
    },
    {
      "cell_type": "code",
      "source": [
        "# 使用Seaborn顯示視覺化圖表\n",
        "sns.pairplot(df, hue=\"target\")"
      ],
      "metadata": {
        "id": "OAs41LwI7pUs"
      },
      "execution_count": null,
      "outputs": []
    },
    {
      "cell_type": "markdown",
      "source": [
        "# 資料前處理"
      ],
      "metadata": {
        "id": "WC4JM6sjAMtN"
      }
    },
    {
      "cell_type": "code",
      "source": [
        "df[\"target_Y\"] = df[\"target\"].map(target_mapping)\n",
        "dataset = df.values\n",
        "np.random.shuffle(dataset)  # 使用亂數打亂資料\n",
        "\n",
        "# 分割成特徵資料和標籤資料\n",
        "X = dataset[:,0:4].astype(float)\n",
        "Y = to_categorical(dataset[:,5])\n",
        "# 特徵標準化\n",
        "X -= X.mean(axis=0)\n",
        "X /= X.std(axis=0)\n",
        "# 分割成訓練和測試資料集\n",
        "X_train, Y_train = X[:120], Y[:120]     # 訓練資料前120筆\n",
        "X_test, Y_test = X[120:], Y[120:]       # 測試資料後30筆"
      ],
      "metadata": {
        "id": "WcwjtNHjSWVo"
      },
      "execution_count": null,
      "outputs": []
    },
    {
      "cell_type": "markdown",
      "source": [
        "# 載入先前訓練過的模型（H5格式）\n",
        "\n",
        "> 若你有先前訓練並存檔的模型，在此載入。若無，則不需執行此cell\n",
        "\n"
      ],
      "metadata": {
        "id": "VvRWDIiWS1mn"
      }
    },
    {
      "cell_type": "code",
      "source": [
        "# 載入模型\n",
        "from tensorflow.keras.models import load_model\n",
        "\n",
        "model = Sequential()\n",
        "model = load_model(\"你的學號.h5\")"
      ],
      "metadata": {
        "id": "57xcbWBdS1mo"
      },
      "execution_count": null,
      "outputs": []
    },
    {
      "cell_type": "markdown",
      "source": [
        "# 建立模型\n",
        "> 若已載入先前訓練過的模型，則此處不要執行。"
      ],
      "metadata": {
        "id": "i6bmQ_bC8oGK"
      }
    },
    {
      "cell_type": "code",
      "source": [
        "# 建立Keras的Sequential模型\n",
        "model = Sequential()\n",
        "model.add(Dense(6, input_shape=(4,), activation=\"relu\"))\n",
        "model.add(Dense(6, activation=\"relu\"))\n",
        "model.add(Dense(3, activation=\"softmax\"))\n",
        "model.summary()   # 顯示模型摘要資訊"
      ],
      "metadata": {
        "id": "Hco2a6b58ppi"
      },
      "execution_count": null,
      "outputs": []
    },
    {
      "cell_type": "markdown",
      "source": [
        "# 訓練神經網路"
      ],
      "metadata": {
        "id": "QfRMHxB8TPvs"
      }
    },
    {
      "cell_type": "code",
      "source": [
        "# 編譯模型\n",
        "model.compile(loss=\"categorical_crossentropy\", optimizer=\"adam\", metrics=[\"accuracy\"])"
      ],
      "metadata": {
        "id": "SRvM7SOUBrkg"
      },
      "execution_count": null,
      "outputs": []
    },
    {
      "cell_type": "code",
      "source": [
        "# 訓練模型\n",
        "print(\"Training ...\")\n",
        "model.fit(X_train, Y_train, epochs=100, batch_size=32)"
      ],
      "metadata": {
        "id": "8OsX5FY49nzg"
      },
      "execution_count": null,
      "outputs": []
    },
    {
      "cell_type": "code",
      "source": [
        "# 評估模型\n",
        "print(\"\\nTesting ...\")\n",
        "loss, accuracy = model.evaluate(X_test, Y_test, verbose=0)\n",
        "print(\"準確度 = {:.2f}\".format(accuracy))"
      ],
      "metadata": {
        "id": "HG3t9SZcMu3M"
      },
      "execution_count": null,
      "outputs": []
    },
    {
      "cell_type": "code",
      "source": [
        "# 計算分類的預測值\n",
        "print(\"\\nPredicting ...\")\n",
        "\n",
        "Y_pred = model.predict(X_test) \n",
        "Y_pred_classes = np.argmax(Y_pred,axis=1)\n",
        "print(Y_pred_classes)\n",
        "\n",
        "Y_target = dataset[:,5][120:].astype(int)\n",
        "print(Y_target)"
      ],
      "metadata": {
        "id": "Wm92Ptgf9-br"
      },
      "execution_count": null,
      "outputs": []
    },
    {
      "cell_type": "code",
      "source": [
        "# 顯示混淆矩陣\n",
        "tb = pd.crosstab(Y_target, Y_pred_classes, rownames=[\"label\"], colnames=[\"predict\"])\n",
        "tb"
      ],
      "metadata": {
        "id": "gdHLajB9-AJf"
      },
      "execution_count": null,
      "outputs": []
    },
    {
      "cell_type": "code",
      "source": [
        "# 儲存Keras模型\n",
        "print(\"Saving Model ...\")\n",
        "model.save(\"你的學號.h5\")"
      ],
      "metadata": {
        "id": "lq48BjsMTbWl"
      },
      "execution_count": null,
      "outputs": []
    }
  ],
  "metadata": {
    "colab": {
      "name": "Ch6_1",
      "provenance": [],
      "collapsed_sections": []
    },
    "kernelspec": {
      "display_name": "Python 3",
      "language": "python",
      "name": "python3"
    },
    "language_info": {
      "codemirror_mode": {
        "name": "ipython",
        "version": 3
      },
      "file_extension": ".py",
      "mimetype": "text/x-python",
      "name": "python",
      "nbconvert_exporter": "python",
      "pygments_lexer": "ipython3",
      "version": "3.7.4"
    }
  },
  "nbformat": 4,
  "nbformat_minor": 0
}