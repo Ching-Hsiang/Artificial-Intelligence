{
  "cells": [
    {
      "cell_type": "markdown",
      "source": [
        "# 載入函式庫與資料集"
      ],
      "metadata": {
        "id": "h8WAS3v4Ar79"
      }
    },
    {
      "cell_type": "code",
      "execution_count": null,
      "metadata": {
        "id": "YKyrRs9SHKh3"
      },
      "outputs": [],
      "source": [
        "import numpy as np\n",
        "import pandas as pd\n",
        "from tensorflow.keras.models import Sequential\n",
        "from tensorflow.keras.layers import Dense\n",
        "from tensorflow.keras.utils import to_categorical"
      ]
    },
    {
      "cell_type": "code",
      "execution_count": null,
      "metadata": {
        "id": "0yQJECERRmSF"
      },
      "outputs": [],
      "source": [
        "np.random.seed(627)  # 指定亂數種子：只要不更改，每次運作時即可保持再現性\n",
        "# 載入資料集\n",
        "df = pd.read_csv(\"./titanic_data.csv\")"
      ]
    },
    {
      "cell_type": "code",
      "source": [
        "# 查看前5筆記錄\n",
        "df.head()"
      ],
      "metadata": {
        "id": "1C49gGDJAgUo"
      },
      "execution_count": null,
      "outputs": []
    },
    {
      "cell_type": "markdown",
      "source": [
        "鐵達尼號乘客資料集 各欄位說明可參考：\n",
        "*   https://www.kaggle.com/competitions/titanic/data\n",
        "*   https://ithelp.ithome.com.tw/articles/10200327\n"
      ],
      "metadata": {
        "id": "lsp9Mr7Ndv-S"
      }
    },
    {
      "cell_type": "code",
      "source": [
        "# 顯示資料集的形狀\n",
        "df.shape"
      ],
      "metadata": {
        "id": "zPDNIKsmAjvC"
      },
      "execution_count": null,
      "outputs": []
    },
    {
      "cell_type": "code",
      "source": [
        "# 顯示資料集的描述資料\n",
        "df.describe()"
      ],
      "metadata": {
        "id": "hET2g-ef7Tm5"
      },
      "execution_count": null,
      "outputs": []
    },
    {
      "cell_type": "code",
      "source": [
        "# 顯示資料集的資訊\n",
        "df.info()"
      ],
      "metadata": {
        "id": "YUuNUa4E_x7B"
      },
      "execution_count": null,
      "outputs": []
    },
    {
      "cell_type": "code",
      "source": [
        "# 顯示沒有資料的筆數\n",
        "df.isnull().sum()"
      ],
      "metadata": {
        "id": "_hiLFrgA_0hn"
      },
      "execution_count": null,
      "outputs": []
    },
    {
      "cell_type": "markdown",
      "source": [
        "# 資料前處理\n",
        "> 對於真實世界的資料，前處理十分關鍵，也非常需要花精神"
      ],
      "metadata": {
        "id": "WC4JM6sjAMtN"
      }
    },
    {
      "cell_type": "code",
      "source": [
        "# 刪除不需要的欄位\n",
        "df = df.drop([\"name\", \"ticket\", \"cabin\"], axis=1)"
      ],
      "metadata": {
        "id": "WcwjtNHjSWVo"
      },
      "execution_count": null,
      "outputs": []
    },
    {
      "cell_type": "code",
      "source": [
        "# 處理遺失資料\n",
        "df[[\"age\"]] = df[[\"age\"]].fillna(value=df[[\"age\"]].mean())\n",
        "df[[\"fare\"]] = df[[\"fare\"]].fillna(value=df[[\"fare\"]].mean())\n",
        "\n",
        "df[[\"embarked\"]] = df[[\"embarked\"]].fillna(value=df[\"embarked\"].value_counts().idxmax())\n",
        "print(df[\"embarked\"].value_counts())\n",
        "print(df[\"embarked\"].value_counts().idxmax())"
      ],
      "metadata": {
        "id": "YvV8KhCbVzpw"
      },
      "execution_count": null,
      "outputs": []
    },
    {
      "cell_type": "code",
      "source": [
        "# 轉換分類資料\n",
        "df[\"sex\"] = df[\"sex\"].map( {\"female\": 1, \"male\": 0} ).astype(int)"
      ],
      "metadata": {
        "id": "xUbXbk1OWA6Y"
      },
      "execution_count": null,
      "outputs": []
    },
    {
      "cell_type": "code",
      "source": [
        "# Embarked欄位的One-hot編碼\n",
        "enbarked_one_hot = pd.get_dummies(df[\"embarked\"], prefix=\"embarked\")\n",
        "df = df.drop(\"embarked\", axis=1)\n",
        "df = df.join(enbarked_one_hot)"
      ],
      "metadata": {
        "id": "Y7_Samr_WJut"
      },
      "execution_count": null,
      "outputs": []
    },
    {
      "cell_type": "code",
      "source": [
        "# 將標籤的 survived 欄位移至最後\n",
        "df_survived = df.pop(\"survived\") \n",
        "df[\"survived\"] = df_survived"
      ],
      "metadata": {
        "id": "H5Cn07M3WNG1"
      },
      "execution_count": null,
      "outputs": []
    },
    {
      "cell_type": "code",
      "source": [
        "df.head()"
      ],
      "metadata": {
        "id": "WjmW9nc8WQGj"
      },
      "execution_count": null,
      "outputs": []
    },
    {
      "cell_type": "code",
      "source": [
        "# 分割成訓練(80%)和測試(20%)資料集\n",
        "mask = np.random.rand(len(df)) < 0.8\n",
        "df_train = df[mask]\n",
        "df_test = df[~mask]\n",
        "print(\"Train:\", df_train.shape)\n",
        "print(\"Test:\", df_test.shape)\n",
        "# 儲存處理後的資料\n",
        "df_train.to_csv(\"titanic_train.csv\", index=False)\n",
        "df_test.to_csv(\"titanic_test.csv\", index=False)"
      ],
      "metadata": {
        "id": "Zq-uKHr6WVnR"
      },
      "execution_count": null,
      "outputs": []
    },
    {
      "cell_type": "markdown",
      "source": [
        "# 載入已經預處理好的資料\n",
        "> 上述資料集整理處理完，往後即能直接載入資料集，不需每次都要重新處理原始資料"
      ],
      "metadata": {
        "id": "YLaT96GiWrso"
      }
    },
    {
      "cell_type": "code",
      "source": [
        "np.random.seed(627)  # 指定亂數種子：只要不更改，每次運作時即可保持再現性\n",
        "# 載入Titanic的訓練和測試資料集\n",
        "df_train = pd.read_csv(\"./titanic_train.csv\")\n",
        "df_test = pd.read_csv(\"./titanic_test.csv\")\n",
        "dataset_train = df_train.values\n",
        "dataset_test = df_test.values"
      ],
      "metadata": {
        "id": "ZKK5gP-IWkEQ"
      },
      "execution_count": null,
      "outputs": []
    },
    {
      "cell_type": "code",
      "source": [
        "# 分割成特徵資料和標籤資料\n",
        "X_train = dataset_train[:, 0:9]\n",
        "Y_train = dataset_train[:, 9]\n",
        "X_test = dataset_test[:, 0:9]\n",
        "Y_test = dataset_test[:, 9]\n",
        "# 特徵標準化\n",
        "X_train -= X_train.mean(axis=0)\n",
        "X_train /= X_train.std(axis=0)\n",
        "X_test -= X_test.mean(axis=0)\n",
        "X_test /= X_test.std(axis=0)"
      ],
      "metadata": {
        "id": "rtBmx0_OXK6c"
      },
      "execution_count": null,
      "outputs": []
    },
    {
      "cell_type": "markdown",
      "source": [
        "# 載入先前訓練過的模型（H5格式）\n",
        "\n",
        "> 若你有先前訓練並存檔的模型，在此載入。若無，則不需執行此cell\n",
        "\n"
      ],
      "metadata": {
        "id": "VvRWDIiWS1mn"
      }
    },
    {
      "cell_type": "code",
      "source": [
        "# 載入模型\n",
        "from tensorflow.keras.models import load_model\n",
        "\n",
        "model = Sequential()\n",
        "model = load_model(\"你的學號.h5\")"
      ],
      "metadata": {
        "id": "57xcbWBdS1mo"
      },
      "execution_count": null,
      "outputs": []
    },
    {
      "cell_type": "markdown",
      "source": [
        "# 建立模型\n",
        "> 若已載入先前訓練過的模型，則此處不要執行。"
      ],
      "metadata": {
        "id": "i6bmQ_bC8oGK"
      }
    },
    {
      "cell_type": "code",
      "source": [
        "# 定義模型\n",
        "model = Sequential()\n",
        "model.add(Dense(11, input_dim=X_train.shape[1], activation=\"relu\"))\n",
        "model.add(Dense(11, activation=\"relu\"))\n",
        "model.add(Dense(1, activation=\"sigmoid\"))\n",
        "model.summary()   # 顯示模型摘要資訊"
      ],
      "metadata": {
        "id": "Hco2a6b58ppi"
      },
      "execution_count": null,
      "outputs": []
    },
    {
      "cell_type": "markdown",
      "source": [
        "# 訓練神經網路"
      ],
      "metadata": {
        "id": "QfRMHxB8TPvs"
      }
    },
    {
      "cell_type": "code",
      "source": [
        "# 編譯模型\n",
        "model.compile(loss=\"binary_crossentropy\", optimizer=\"adam\", metrics=[\"accuracy\"])"
      ],
      "metadata": {
        "id": "SRvM7SOUBrkg"
      },
      "execution_count": null,
      "outputs": []
    },
    {
      "cell_type": "code",
      "source": [
        "# 訓練模型\n",
        "print(\"Training ...\")\n",
        "history = model.fit(X_train, Y_train, validation_split=0.2, epochs=100, batch_size=32)"
      ],
      "metadata": {
        "id": "8OsX5FY49nzg"
      },
      "execution_count": null,
      "outputs": []
    },
    {
      "cell_type": "code",
      "source": [
        "# 評估模型\n",
        "print(\"\\nTesting ...\")\n",
        "loss, accuracy = model.evaluate(X_train, Y_train, verbose=0)\n",
        "print(\"訓練資料集的準確度 = {:.2f}\".format(accuracy))\n",
        "loss, accuracy = model.evaluate(X_test, Y_test, verbose=0)\n",
        "print(\"測試資料集的準確度 = {:.2f}\".format(accuracy))"
      ],
      "metadata": {
        "id": "HG3t9SZcMu3M"
      },
      "execution_count": null,
      "outputs": []
    },
    {
      "cell_type": "code",
      "source": [
        "# 顯示圖表來分析模型的訓練過程\n",
        "import matplotlib.pyplot as plt\n",
        "# 顯示訓練和驗證損失\n",
        "loss = history.history[\"loss\"]\n",
        "epochs = range(1, len(loss)+1)\n",
        "val_loss = history.history[\"val_loss\"]\n",
        "plt.plot(epochs, loss, \"b-\", label=\"Training Loss\")\n",
        "plt.plot(epochs, val_loss, \"r--\", label=\"Validation Loss\")\n",
        "plt.title(\"Training and Validation Loss\")\n",
        "plt.xlabel(\"Epochs\")\n",
        "plt.ylabel(\"Loss\")\n",
        "plt.legend()\n",
        "plt.show()\n",
        "# 顯示訓練和驗證準確度\n",
        "acc = history.history[\"accuracy\"]\n",
        "epochs = range(1, len(acc)+1)\n",
        "val_acc = history.history[\"val_accuracy\"]\n",
        "plt.plot(epochs, acc, \"b-\", label=\"Training Acc\")\n",
        "plt.plot(epochs, val_acc, \"r--\", label=\"Validation Acc\")\n",
        "plt.title(\"Training and Validation Accuracy\")\n",
        "plt.xlabel(\"Epochs\")\n",
        "plt.ylabel(\"Accuracy\")\n",
        "plt.legend()\n",
        "plt.show()"
      ],
      "metadata": {
        "id": "cDsqrhfsXlpQ"
      },
      "execution_count": null,
      "outputs": []
    },
    {
      "cell_type": "markdown",
      "source": [
        "# 重新執行模型定義與訓練\n",
        "> 從上述歷程追蹤來觀察適合的迭代次數，避免過度學習造成overfitting"
      ],
      "metadata": {
        "id": "EtF8jbutY25K"
      }
    },
    {
      "cell_type": "code",
      "source": [
        "model = Sequential()\n",
        "model.add(Dense(11, input_dim=X_train.shape[1], activation=\"relu\"))\n",
        "model.add(Dense(11, activation=\"relu\"))\n",
        "model.add(Dense(1, activation=\"sigmoid\"))\n",
        "model.compile(loss=\"binary_crossentropy\", optimizer=\"adam\", metrics=[\"accuracy\"])\n",
        "history = model.fit(X_train, Y_train, validation_split=0.2, epochs=20, batch_size=32, verbose=0)  # epochs改為適當的迭代次數"
      ],
      "metadata": {
        "id": "tcxNYntSYCVN"
      },
      "execution_count": null,
      "outputs": []
    },
    {
      "cell_type": "code",
      "source": [
        "# 評估模型\n",
        "print(\"\\nTesting ...\")\n",
        "loss, accuracy = model.evaluate(X_train, Y_train, verbose=0)\n",
        "print(\"訓練資料集的準確度 = {:.2f}\".format(accuracy))\n",
        "loss, accuracy = model.evaluate(X_test, Y_test, verbose=0)\n",
        "print(\"測試資料集的準確度 = {:.2f}\".format(accuracy))"
      ],
      "metadata": {
        "id": "roacK6ZtZORX"
      },
      "execution_count": null,
      "outputs": []
    },
    {
      "cell_type": "code",
      "source": [
        "# 儲存Keras模型\n",
        "print(\"Saving Model ...\")\n",
        "model.save(\"你的學號.h5\")"
      ],
      "metadata": {
        "id": "o-wtKCffZUNx"
      },
      "execution_count": null,
      "outputs": []
    },
    {
      "cell_type": "code",
      "source": [
        "# 計算分類的預測值\n",
        "print(\"\\nPredicting ...\")\n",
        "Y_pred = (model.predict(X_test) > 0.5).astype(\"int32\") # 預測機率轉換成0或1，大於0.5為1、小於等於0.5為0\n",
        "print(Y_pred.reshape(-1))\n",
        "print(Y_test.astype(int))"
      ],
      "metadata": {
        "id": "Wm92Ptgf9-br"
      },
      "execution_count": null,
      "outputs": []
    },
    {
      "cell_type": "code",
      "source": [
        "# 顯示混淆矩陣\n",
        "tb = pd.crosstab(Y_test.astype(int), Y_pred.reshape(-1), rownames=[\"label\"], colnames=[\"predict\"])\n",
        "tb"
      ],
      "metadata": {
        "id": "gdHLajB9-AJf"
      },
      "execution_count": null,
      "outputs": []
    },
    {
      "cell_type": "code",
      "source": [
        "# 儲存Keras模型\n",
        "print(\"Saving Model ...\")\n",
        "model.save(\"你的學號.h5\")"
      ],
      "metadata": {
        "id": "lq48BjsMTbWl"
      },
      "execution_count": null,
      "outputs": []
    }
  ],
  "metadata": {
    "colab": {
      "name": "Ch6_2",
      "provenance": [],
      "collapsed_sections": []
    },
    "kernelspec": {
      "display_name": "Python 3",
      "language": "python",
      "name": "python3"
    },
    "language_info": {
      "codemirror_mode": {
        "name": "ipython",
        "version": 3
      },
      "file_extension": ".py",
      "mimetype": "text/x-python",
      "name": "python",
      "nbconvert_exporter": "python",
      "pygments_lexer": "ipython3",
      "version": "3.7.4"
    }
  },
  "nbformat": 4,
  "nbformat_minor": 0
}