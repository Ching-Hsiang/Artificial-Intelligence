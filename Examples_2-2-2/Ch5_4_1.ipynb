{
  "cells": [
    {
      "cell_type": "markdown",
      "source": [
        "# 載入函式庫與資料集"
      ],
      "metadata": {
        "id": "h8WAS3v4Ar79"
      }
    },
    {
      "cell_type": "code",
      "execution_count": null,
      "metadata": {
        "id": "YKyrRs9SHKh3"
      },
      "outputs": [],
      "source": [
        "import numpy as np\n",
        "import pandas as pd\n",
        "from tensorflow.keras.models import Sequential\n",
        "from tensorflow.keras.layers import Dense"
      ]
    },
    {
      "cell_type": "code",
      "execution_count": null,
      "metadata": {
        "id": "0yQJECERRmSF"
      },
      "outputs": [],
      "source": [
        "np.random.seed(10)  # 指定亂數種子\n",
        "# 載入波士頓房屋資料集\n",
        "df = pd.read_csv(\"./boston_housing.csv\")"
      ]
    },
    {
      "cell_type": "code",
      "source": [
        "df.head()"
      ],
      "metadata": {
        "id": "1C49gGDJAgUo"
      },
      "execution_count": null,
      "outputs": []
    },
    {
      "cell_type": "code",
      "source": [
        "df.shape"
      ],
      "metadata": {
        "id": "zPDNIKsmAjvC"
      },
      "execution_count": null,
      "outputs": []
    },
    {
      "cell_type": "markdown",
      "source": [
        "# 資料前處理"
      ],
      "metadata": {
        "id": "WC4JM6sjAMtN"
      }
    },
    {
      "cell_type": "code",
      "source": [
        "dataset = df.values\n",
        "np.random.shuffle(dataset)  # 使用亂數打亂資料\n",
        "\n",
        "# 分割成特徵資料和標籤資料\n",
        "X = dataset[:, 0:13]\n",
        "Y = dataset[:, 13]\n",
        "\n",
        "# 特徵標準化\n",
        "X -= X.mean(axis=0)\n",
        "X /= X.std(axis=0)\n",
        "\n",
        "# 分割訓練和測試資料集\n",
        "X_train, Y_train = X[:404], Y[:404]  # 訓練資料前404筆\n",
        "X_test, Y_test = X[404:], Y[404:]   # 測試資料後102筆"
      ],
      "metadata": {
        "id": "WcwjtNHjSWVo"
      },
      "execution_count": null,
      "outputs": []
    },
    {
      "cell_type": "markdown",
      "source": [
        "# 打造模型"
      ],
      "metadata": {
        "id": "V52LnCBcB7IJ"
      }
    },
    {
      "cell_type": "code",
      "source": [
        "# 定義模型\n",
        "def build_model():\n",
        "  model = Sequential()\n",
        "  model.add(Dense(32, input_shape=(X_train.shape[1],), activation=\"relu\"))\n",
        "  model.add(Dense(1))\n",
        "  # 編譯模型\n",
        "  model.compile(loss=\"mse\", optimizer=\"adam\", \n",
        "                metrics=[\"mae\"])\n",
        "  return model"
      ],
      "metadata": {
        "id": "SRvM7SOUBrkg"
      },
      "execution_count": null,
      "outputs": []
    },
    {
      "cell_type": "markdown",
      "source": [
        "# 使用交叉驗證"
      ],
      "metadata": {
        "id": "TkE9fH13CAmT"
      }
    },
    {
      "cell_type": "code",
      "source": [
        "k = 4\n",
        "nb_val_samples = len(X_train) // k\n",
        "nb_epochs = 80\n",
        "mse_scores = []\n",
        "mae_scores = []\n",
        "for i in range(k):\n",
        "  print(\"Processing Fold #\" + str(i))\n",
        "  # 取出驗證資料集\n",
        "  X_val = X_train[i*nb_val_samples: (i+1)*nb_val_samples]\n",
        "  Y_val = Y_train[i*nb_val_samples: (i+1)*nb_val_samples]\n",
        "  # 結合出訓練資料集\n",
        "  X_train_p = np.concatenate(\n",
        "          [X_train[:i*nb_val_samples],\n",
        "          X_train[(i+1)*nb_val_samples:]], axis=0)\n",
        "  Y_train_p = np.concatenate(\n",
        "          [Y_train[:i*nb_val_samples],\n",
        "          Y_train[(i+1)*nb_val_samples:]], axis=0)\n",
        "  model = build_model()\n",
        "  # 訓練模型\n",
        "  model.fit(X_train_p, Y_train_p, epochs=nb_epochs, \n",
        "            batch_size=16, verbose=0)\n",
        "  # 評估模型\n",
        "  mse, mae = model.evaluate(X_val, Y_val, verbose=0)\n",
        "  mse_scores.append(mse)\n",
        "  mae_scores.append(mae)"
      ],
      "metadata": {
        "id": "ZBSTHnAnBsTi"
      },
      "execution_count": null,
      "outputs": []
    },
    {
      "cell_type": "code",
      "source": [
        "#交叉驗證後模型的平均指標\n",
        "print(\"MSE_val: \", np.mean(mse_scores))\n",
        "print(\"MAE_val: \", np.mean(mae_scores))\n",
        "\n",
        "# 使用測試資料評估模型\n",
        "mse, mae = model.evaluate(X_test, Y_test, verbose=0)    \n",
        "print(\"MSE_test: \", mse)\n",
        "print(\"MAE_test: \", mae)"
      ],
      "metadata": {
        "id": "WTloGvzTCGNx"
      },
      "execution_count": null,
      "outputs": []
    },
    {
      "cell_type": "code",
      "source": [
        ""
      ],
      "metadata": {
        "id": "AOrUL9qLCTmt"
      },
      "execution_count": null,
      "outputs": []
    }
  ],
  "metadata": {
    "colab": {
      "name": "Ch5_4_1",
      "provenance": [],
      "collapsed_sections": [
        "h8WAS3v4Ar79",
        "WC4JM6sjAMtN"
      ]
    },
    "kernelspec": {
      "display_name": "Python 3",
      "language": "python",
      "name": "python3"
    },
    "language_info": {
      "codemirror_mode": {
        "name": "ipython",
        "version": 3
      },
      "file_extension": ".py",
      "mimetype": "text/x-python",
      "name": "python",
      "nbconvert_exporter": "python",
      "pygments_lexer": "ipython3",
      "version": "3.7.4"
    }
  },
  "nbformat": 4,
  "nbformat_minor": 0
}