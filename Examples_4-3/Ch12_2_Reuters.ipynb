{
  "nbformat": 4,
  "nbformat_minor": 0,
  "metadata": {
    "colab": {
      "name": "Ch12_2_Reuters",
      "provenance": [],
      "collapsed_sections": []
    },
    "kernelspec": {
      "name": "python3",
      "display_name": "Python 3"
    },
    "accelerator": "GPU"
  },
  "cells": [
    {
      "cell_type": "code",
      "source": [
        "import numpy as np\n",
        "from tensorflow.keras.datasets import reuters\n",
        "from tensorflow.keras.preprocessing import sequence\n",
        "from tensorflow.keras.models import Sequential\n",
        "from tensorflow.keras.layers import Embedding, Dropout, LSTM, Dense\n",
        "from tensorflow.keras.utils import to_categorical\n",
        "\n",
        "import matplotlib.pyplot as plt"
      ],
      "metadata": {
        "id": "59bwnLfSB7yh"
      },
      "execution_count": null,
      "outputs": []
    },
    {
      "cell_type": "markdown",
      "source": [
        "## 路透社資料集準備\n",
        "### 英國路透社在1980年發布的簡短新聞電訊，包含46種主題，每一主題至少有10篇新聞。但各主題的樣本數並不平均，因此多元分類模型的準確度不會太好。\n",
        "### Keras內建的路透社資料集是一個精簡版的新聞資料集，訓練資料共8982筆、測試資料共2246筆"
      ],
      "metadata": {
        "id": "JgBoOMTWc-ke"
      }
    },
    {
      "cell_type": "code",
      "source": [
        "# 載入 Reuters 資料集, 如果是第一次載入會自行下載資料集\n",
        "top_words = 10000\n",
        "(X_train, Y_train), (X_test, Y_test) = reuters.load_data(num_words=top_words)\n",
        "# 形狀\n",
        "print(\"X_train.shape: \", X_train.shape)\n",
        "print(\"Y_train.shape: \", Y_train.shape)\n",
        "print(\"X_test.shape: \", X_test.shape)\n",
        "print(\"Y_test.shape: \", Y_test.shape)\n",
        "# 顯示 Numpy 陣列內容\n",
        "print(X_train[0])\n",
        "print(Y_train[0])   # 標籤資料"
      ],
      "metadata": {
        "id": "BNAQwsSAGqL3"
      },
      "execution_count": null,
      "outputs": []
    },
    {
      "cell_type": "code",
      "source": [
        "# 最大的單字索引值\n",
        "max_index = max(max(sequence) for sequence in X_train)\n",
        "print(\"Max Index: \", max_index)\n",
        "# 建立新聞的解碼字典\n",
        "word_index = reuters.get_word_index()\n",
        "we_index = word_index[\"we\"]\n",
        "print(\"'we' index:\", we_index)\n",
        "decode_word_map = dict([(value, key) for (key, value)\n",
        "                                  in word_index.items()])\n",
        "print(decode_word_map[we_index])\n",
        "# 解碼顯示新聞內容\n",
        "decoded_indices = [decode_word_map.get(i-3, \"?\")\n",
        "                           for i in X_train[0]]\n",
        "print(decoded_indices)\n",
        "decoded_news = \" \".join(decoded_indices)\n",
        "print(decoded_news)"
      ],
      "metadata": {
        "id": "rmGca4HPrtBC"
      },
      "execution_count": null,
      "outputs": []
    },
    {
      "cell_type": "code",
      "source": [
        "seed = 10\n",
        "np.random.seed(seed)  # 指定亂數種子"
      ],
      "metadata": {
        "id": "3ms8rnhH3h5w"
      },
      "execution_count": null,
      "outputs": []
    },
    {
      "cell_type": "code",
      "source": [
        "# 資料預處理\n",
        "max_words = 200 \n",
        "X_train = sequence.pad_sequences(X_train, maxlen=max_words)\n",
        "X_test = sequence.pad_sequences(X_test, maxlen=max_words)\n",
        "\n",
        "print(\"X_train.shape: \", X_train.shape)\n",
        "print(\"X_test.shape: \", X_test.shape)\n",
        "# One-hot編碼\n",
        "Y_train = to_categorical(Y_train, 46)\n",
        "Y_test = to_categorical(Y_test, 46)"
      ],
      "metadata": {
        "id": "uuYILhoh36So"
      },
      "execution_count": null,
      "outputs": []
    },
    {
      "cell_type": "code",
      "source": [
        "# 定義模型\n",
        "model = Sequential()\n",
        "model.add(Embedding(top_words, 32, input_length=max_words))\n",
        "model.add(Dropout(0.75))\n",
        "model.add(LSTM(32, return_sequences=True))\n",
        "model.add(LSTM(32))\n",
        "model.add(Dropout(0.5))\n",
        "model.add(Dense(46, activation=\"softmax\"))\n",
        "model.summary()   # 顯示模型摘要資訊"
      ],
      "metadata": {
        "id": "eOjk2fIW4G-J"
      },
      "execution_count": null,
      "outputs": []
    },
    {
      "cell_type": "code",
      "source": [
        "# 編譯模型\n",
        "model.compile(loss=\"categorical_crossentropy\", optimizer=\"rmsprop\",metrics=[\"accuracy\"])"
      ],
      "metadata": {
        "id": "PFEqzm2s4IWr"
      },
      "execution_count": null,
      "outputs": []
    },
    {
      "cell_type": "code",
      "source": [
        "# 訓練模型\n",
        "history = model.fit(X_train, Y_train, validation_split=0.2, epochs=40, batch_size=128, verbose=2)"
      ],
      "metadata": {
        "id": "9c1AKipQ4JqZ"
      },
      "execution_count": null,
      "outputs": []
    },
    {
      "cell_type": "code",
      "source": [
        "# 評估模型\n",
        "loss, accuracy = model.evaluate(X_test, Y_test, verbose=0)\n",
        "print(\"測試資料集的準確度 = {:.2f}\".format(accuracy))"
      ],
      "metadata": {
        "id": "Ud-8QNTx4WIn"
      },
      "execution_count": null,
      "outputs": []
    },
    {
      "cell_type": "code",
      "source": [
        "# 顯示訓練和驗證損失圖表\n",
        "loss = history.history[\"loss\"]\n",
        "epochs = range(1, len(loss)+1)\n",
        "val_loss = history.history[\"val_loss\"]\n",
        "plt.plot(epochs, loss, \"bo\", label=\"Training Loss\")\n",
        "plt.plot(epochs, val_loss, \"r\", label=\"Validation Loss\")\n",
        "plt.title(\"Training and Validation Loss\")\n",
        "plt.xlabel(\"Epochs\")\n",
        "plt.ylabel(\"Loss\")\n",
        "plt.legend()\n",
        "plt.show()\n",
        "# 顯示訓練和驗證準確度\n",
        "acc = history.history[\"accuracy\"]\n",
        "epochs = range(1, len(acc)+1)\n",
        "val_acc = history.history[\"val_accuracy\"]\n",
        "plt.plot(epochs, acc, \"b-\", label=\"Training Acc\")\n",
        "plt.plot(epochs, val_acc, \"r--\", label=\"Validation Acc\")\n",
        "plt.title(\"Training and Validation Accuracy\")\n",
        "plt.xlabel(\"Epochs\")\n",
        "plt.ylabel(\"Accuracy\")\n",
        "plt.legend()\n",
        "plt.show()"
      ],
      "metadata": {
        "id": "ND_8w-rl4ds1"
      },
      "execution_count": null,
      "outputs": []
    }
  ]
}