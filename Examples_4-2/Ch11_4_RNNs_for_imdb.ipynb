{
  "nbformat": 4,
  "nbformat_minor": 0,
  "metadata": {
    "colab": {
      "name": "Ch11_4_RNNs_for_imdb",
      "provenance": [],
      "collapsed_sections": []
    },
    "kernelspec": {
      "name": "python3",
      "display_name": "Python 3"
    },
    "accelerator": "GPU"
  },
  "cells": [
    {
      "cell_type": "code",
      "source": [
        "import numpy as np\n",
        "from tensorflow.keras.datasets import imdb\n",
        "from tensorflow.keras.preprocessing import sequence\n",
        "from tensorflow.keras.models import Sequential\n",
        "from tensorflow.keras.layers import Dense, Dropout, Embedding, SimpleRNN, LSTM, GRU\n",
        "\n",
        "import matplotlib.pyplot as plt"
      ],
      "metadata": {
        "id": "59bwnLfSB7yh"
      },
      "execution_count": null,
      "outputs": []
    },
    {
      "cell_type": "code",
      "source": [
        "seed = 10\n",
        "np.random.seed(seed)  # 指定亂數種子\n",
        "# 載入 IMDb 資料集\n",
        "top_words = 1000\n",
        "(X_train, Y_train), (X_test, Y_test) = imdb.load_data(num_words=top_words)\n",
        "# 資料預處理\n",
        "max_words = 100\n",
        "X_train = sequence.pad_sequences(X_train, maxlen=max_words)\n",
        "X_test = sequence.pad_sequences(X_test, maxlen=max_words)"
      ],
      "metadata": {
        "id": "BNAQwsSAGqL3"
      },
      "execution_count": null,
      "outputs": []
    },
    {
      "cell_type": "markdown",
      "source": [
        "### RNN"
      ],
      "metadata": {
        "id": "dnrc7qL07Srb"
      }
    },
    {
      "cell_type": "code",
      "metadata": {
        "id": "7toR8Z6WnNtV"
      },
      "source": [
        "# 定義模型\n",
        "model = Sequential()\n",
        "model.add(Embedding(top_words, 32, input_length=max_words))\n",
        "model.add(Dropout(0.25))\n",
        "model.add(SimpleRNN(32))\n",
        "model.add(Dense(256, activation=\"relu\"))\n",
        "model.add(Dropout(0.25))\n",
        "model.add(Dense(1, activation=\"sigmoid\"))\n",
        "model.summary()   # 顯示模型摘要資訊\n",
        "# 編譯模型\n",
        "model.compile(loss=\"binary_crossentropy\", optimizer=\"adam\", metrics=[\"accuracy\"])"
      ],
      "execution_count": null,
      "outputs": []
    },
    {
      "cell_type": "code",
      "source": [
        "# 訓練模型\n",
        "history = model.fit(X_train, Y_train, validation_split=0.2, epochs=5, batch_size=128, verbose=2)\n",
        "# 評估模型\n",
        "loss, accuracy = model.evaluate(X_test, Y_test, verbose=0)\n",
        "print(\"測試資料集的準確度 = {:.2f}\".format(accuracy))"
      ],
      "metadata": {
        "id": "DuSdambQG3zc"
      },
      "execution_count": null,
      "outputs": []
    },
    {
      "cell_type": "code",
      "source": [
        "# 顯示訓練和驗證損失圖表\n",
        "loss = history.history[\"loss\"]\n",
        "epochs = range(1, len(loss)+1)\n",
        "val_loss = history.history[\"val_loss\"]\n",
        "plt.plot(epochs, loss, \"bo\", label=\"Training Loss\")\n",
        "plt.plot(epochs, val_loss, \"r\", label=\"Validation Loss\")\n",
        "plt.title(\"Training and Validation Loss\")\n",
        "plt.xlabel(\"Epochs\")\n",
        "plt.ylabel(\"Loss\")\n",
        "plt.legend()\n",
        "plt.show()\n",
        "# 顯示訓練和驗證準確度\n",
        "acc = history.history[\"accuracy\"]\n",
        "epochs = range(1, len(acc)+1)\n",
        "val_acc = history.history[\"val_accuracy\"]\n",
        "plt.plot(epochs, acc, \"b-\", label=\"Training Acc\")\n",
        "plt.plot(epochs, val_acc, \"r--\", label=\"Validation Acc\")\n",
        "plt.title(\"Training and Validation Accuracy\")\n",
        "plt.xlabel(\"Epochs\")\n",
        "plt.ylabel(\"Accuracy\")\n",
        "plt.legend()\n",
        "plt.show()"
      ],
      "metadata": {
        "id": "WuHkE8x5G_9F"
      },
      "execution_count": null,
      "outputs": []
    },
    {
      "cell_type": "markdown",
      "source": [
        "### LSTM"
      ],
      "metadata": {
        "id": "HSV-bUSVCF7-"
      }
    },
    {
      "cell_type": "code",
      "source": [
        "# 定義模型\n",
        "model = Sequential()\n",
        "model.add(Embedding(top_words, 32, input_length=max_words))\n",
        "model.add(Dropout(0.25))\n",
        "model.add(LSTM(32, dropout=0.2, recurrent_dropout=0.2))\n",
        "model.add(Dense(1, activation=\"sigmoid\"))\n",
        "model.summary()   # 顯示模型摘要資訊\n",
        "# 編譯模型\n",
        "model.compile(loss=\"binary_crossentropy\", optimizer=\"adam\", metrics=[\"accuracy\"])"
      ],
      "metadata": {
        "id": "EF91fOhSCFmu"
      },
      "execution_count": null,
      "outputs": []
    },
    {
      "cell_type": "code",
      "source": [
        "# 訓練模型\n",
        "history = model.fit(X_train, Y_train, validation_split=0.2, epochs=5, batch_size=128, verbose=2)\n",
        "# 評估模型\n",
        "loss, accuracy = model.evaluate(X_test, Y_test, verbose=0)\n",
        "print(\"測試資料集的準確度 = {:.2f}\".format(accuracy))"
      ],
      "metadata": {
        "id": "2o2TuJIdJM4k"
      },
      "execution_count": null,
      "outputs": []
    },
    {
      "cell_type": "code",
      "source": [
        "# 顯示訓練和驗證損失圖表\n",
        "loss = history.history[\"loss\"]\n",
        "epochs = range(1, len(loss)+1)\n",
        "val_loss = history.history[\"val_loss\"]\n",
        "plt.plot(epochs, loss, \"bo\", label=\"Training Loss\")\n",
        "plt.plot(epochs, val_loss, \"r\", label=\"Validation Loss\")\n",
        "plt.title(\"Training and Validation Loss\")\n",
        "plt.xlabel(\"Epochs\")\n",
        "plt.ylabel(\"Loss\")\n",
        "plt.legend()\n",
        "plt.show()\n",
        "# 顯示訓練和驗證準確度\n",
        "acc = history.history[\"accuracy\"]\n",
        "epochs = range(1, len(acc)+1)\n",
        "val_acc = history.history[\"val_accuracy\"]\n",
        "plt.plot(epochs, acc, \"b-\", label=\"Training Acc\")\n",
        "plt.plot(epochs, val_acc, \"r--\", label=\"Validation Acc\")\n",
        "plt.title(\"Training and Validation Accuracy\")\n",
        "plt.xlabel(\"Epochs\")\n",
        "plt.ylabel(\"Accuracy\")\n",
        "plt.legend()\n",
        "plt.show()"
      ],
      "metadata": {
        "id": "_quQICAUJURR"
      },
      "execution_count": null,
      "outputs": []
    },
    {
      "cell_type": "markdown",
      "source": [
        "### GRU"
      ],
      "metadata": {
        "id": "D6C8L5dxCHch"
      }
    },
    {
      "cell_type": "code",
      "source": [
        "# 定義模型\n",
        "model = Sequential()\n",
        "model.add(Embedding(top_words, 32, input_length=max_words))\n",
        "model.add(Dropout(0.25))\n",
        "model.add(GRU(32, activation=\"relu\"))\n",
        "model.add(Dropout(0.25))\n",
        "model.add(Dense(1, activation=\"sigmoid\"))\n",
        "model.summary()   # 顯示模型摘要資訊\n",
        "# 編譯模型\n",
        "model.compile(loss=\"binary_crossentropy\", optimizer=\"adam\", metrics=[\"accuracy\"])"
      ],
      "metadata": {
        "id": "Fnub0wuPJZYi"
      },
      "execution_count": null,
      "outputs": []
    },
    {
      "cell_type": "code",
      "source": [
        "# 訓練模型\n",
        "history = model.fit(X_train, Y_train, validation_split=0.2, epochs=5, batch_size=128, verbose=2)\n",
        "# 評估模型\n",
        "loss, accuracy = model.evaluate(X_test, Y_test, verbose=0)\n",
        "print(\"測試資料集的準確度 = {:.2f}\".format(accuracy))"
      ],
      "metadata": {
        "id": "jAqNo0xmJZYi"
      },
      "execution_count": null,
      "outputs": []
    },
    {
      "cell_type": "code",
      "source": [
        "# 顯示訓練和驗證損失圖表\n",
        "loss = history.history[\"loss\"]\n",
        "epochs = range(1, len(loss)+1)\n",
        "val_loss = history.history[\"val_loss\"]\n",
        "plt.plot(epochs, loss, \"bo\", label=\"Training Loss\")\n",
        "plt.plot(epochs, val_loss, \"r\", label=\"Validation Loss\")\n",
        "plt.title(\"Training and Validation Loss\")\n",
        "plt.xlabel(\"Epochs\")\n",
        "plt.ylabel(\"Loss\")\n",
        "plt.legend()\n",
        "plt.show()\n",
        "# 顯示訓練和驗證準確度\n",
        "acc = history.history[\"accuracy\"]\n",
        "epochs = range(1, len(acc)+1)\n",
        "val_acc = history.history[\"val_accuracy\"]\n",
        "plt.plot(epochs, acc, \"b-\", label=\"Training Acc\")\n",
        "plt.plot(epochs, val_acc, \"r--\", label=\"Validation Acc\")\n",
        "plt.title(\"Training and Validation Accuracy\")\n",
        "plt.xlabel(\"Epochs\")\n",
        "plt.ylabel(\"Accuracy\")\n",
        "plt.legend()\n",
        "plt.show()"
      ],
      "metadata": {
        "id": "3Y4JwzxsJZYj"
      },
      "execution_count": null,
      "outputs": []
    },
    {
      "cell_type": "code",
      "source": [
        ""
      ],
      "metadata": {
        "id": "QuFLxBGiQl15"
      },
      "execution_count": null,
      "outputs": []
    }
  ]
}