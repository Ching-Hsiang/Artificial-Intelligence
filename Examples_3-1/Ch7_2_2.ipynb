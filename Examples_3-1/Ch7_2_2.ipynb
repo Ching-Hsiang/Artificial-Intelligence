{
  "cells": [
    {
      "cell_type": "code",
      "source": [
        "import numpy as np\n",
        "import matplotlib.pyplot as plt\n",
        "from scipy import signal"
      ],
      "metadata": {
        "id": "0BYRhIjgoKoz"
      },
      "execution_count": 31,
      "outputs": []
    },
    {
      "cell_type": "code",
      "source": [
        "img = np.load(\"digit8.npy\")"
      ],
      "metadata": {
        "id": "d-WipBWhoOKT"
      },
      "execution_count": 32,
      "outputs": []
    },
    {
      "cell_type": "code",
      "source": [
        "plt.figure()\n",
        "plt.imshow(img, cmap=\"gray\")\n",
        "plt.axis(\"off\")\n",
        "plt.show()"
      ],
      "metadata": {
        "colab": {
          "base_uri": "https://localhost:8080/",
          "height": 248
        },
        "id": "4te3d0y-oQ1x",
        "outputId": "15f36a0a-f7d8-40d7-ca57-e62099d81b64"
      },
      "execution_count": 33,
      "outputs": [
        {
          "output_type": "display_data",
          "data": {
            "text/plain": [
              "<Figure size 432x288 with 1 Axes>"
            ],
            "image/png": "[encoded data removed]"
          },
          "metadata": {
            "needs_background": "light"
          }
        }
      ]
    },
    {
      "cell_type": "markdown",
      "source": [
        "邊緣偵測"
      ],
      "metadata": {
        "id": "mISo0OwmxGeV"
      }
    },
    {
      "cell_type": "code",
      "source": [
        "edge = [\n",
        "    [0, 1, 0],\n",
        "    [1,-4, 1],\n",
        "    [0, 1, 0]\n",
        "    ]"
      ],
      "metadata": {
        "id": "FtpkgFWwu8RG"
      },
      "execution_count": 34,
      "outputs": []
    },
    {
      "cell_type": "code",
      "source": [
        "plt.figure()\n",
        "plt.subplot(1, 2, 1)\n",
        "plt.imshow(img, cmap=\"gray\")\n",
        "plt.axis(\"off\")\n",
        "plt.title(\"original image\")\n",
        "\n",
        "plt.subplot(1, 2, 2)\n",
        "c_digit = signal.convolve2d(img, edge, boundary=\"symm\", mode=\"same\")\n",
        "plt.imshow(c_digit, cmap=\"gray\")\n",
        "plt.axis(\"off\")\n",
        "plt.title(\"edge-detection image\")\n",
        "plt.show()"
      ],
      "metadata": {
        "colab": {
          "base_uri": "https://localhost:8080/",
          "height": 199
        },
        "id": "1jczkHrcv7tS",
        "outputId": "7586122c-6c73-4a29-b832-8c93af3c7d08"
      },
      "execution_count": 35,
      "outputs": [
        {
          "output_type": "display_data",
          "data": {
            "text/plain": [
              "<Figure size 432x288 with 2 Axes>"
            ],
            "image/png": "[encoded data removed]"
          },
          "metadata": {
            "needs_background": "light"
          }
        }
      ]
    },
    {
      "cell_type": "markdown",
      "source": [
        "銳化處理"
      ],
      "metadata": {
        "id": "gt9_9cxqxIKG"
      }
    },
    {
      "cell_type": "code",
      "source": [
        "sharpen = [\n",
        "    [0, -1, 0],\n",
        "    [-1, 5, -1],\n",
        "    [0, -1, 0]\n",
        "    ]"
      ],
      "metadata": {
        "id": "Tiqj1g_Wv9F0"
      },
      "execution_count": 36,
      "outputs": []
    },
    {
      "cell_type": "code",
      "source": [
        "plt.figure()\n",
        "plt.subplot(1, 2, 1)\n",
        "plt.imshow(img, cmap=\"gray\")\n",
        "plt.axis(\"off\")\n",
        "plt.title(\"original image\")\n",
        "\n",
        "plt.subplot(1, 2, 2)\n",
        "c_digit = signal.convolve2d(img, sharpen, boundary=\"symm\", mode=\"same\")\n",
        "plt.imshow(c_digit, cmap=\"gray\")\n",
        "plt.axis(\"off\")\n",
        "plt.title(\"sharpen image\")\n",
        "plt.show()  "
      ],
      "metadata": {
        "colab": {
          "base_uri": "https://localhost:8080/",
          "height": 199
        },
        "id": "xZQqlVFCwOZq",
        "outputId": "686a07f7-897b-48ef-84c4-b00a8c9b74af"
      },
      "execution_count": 37,
      "outputs": [
        {
          "output_type": "display_data",
          "data": {
            "text/plain": [
              "<Figure size 432x288 with 2 Axes>"
            ],
            "image/png": "[encoded data removed]"
          },
          "metadata": {
            "needs_background": "light"
          }
        }
      ]
    },
    {
      "cell_type": "markdown",
      "source": [
        "水平與垂直邊線偵測"
      ],
      "metadata": {
        "id": "mW9gnn6BxKYc"
      }
    },
    {
      "cell_type": "code",
      "source": [
        "filters = [[\n",
        "    [-1, -1, -1],\n",
        "    [ 1,  1,  1],\n",
        "    [ 0,  0,  0]],\n",
        "   [[-1,  1,  0],\n",
        "    [-1,  1,  0],\n",
        "    [-1,  1,  0]],\n",
        "   [[ 0,  0,  0],\n",
        "    [ 1,  1,  1],\n",
        "    [-1, -1, -1]],\n",
        "   [[ 0,  1, -1],\n",
        "    [ 0,  1, -1],\n",
        "    [ 0,  1, -1]]]"
      ],
      "metadata": {
        "id": "nH5Si4OXwPCl"
      },
      "execution_count": 38,
      "outputs": []
    },
    {
      "cell_type": "code",
      "source": [
        "plt.figure(figsize=(10,10))\n",
        "plt.subplot(1, 5, 1)\n",
        "plt.imshow(img, cmap=\"gray\")\n",
        "plt.axis(\"off\")\n",
        "plt.title(\"original\")\n",
        "\n",
        "for i in range(2, 6):\n",
        "    plt.subplot(1, 5, i)\n",
        "    c = signal.convolve2d(img, filters[i-2], boundary=\"symm\", mode=\"same\")\n",
        "    plt.imshow(c, cmap=\"gray\")\n",
        "    plt.axis(\"off\")\n",
        "    plt.title(\"filter\"+str(i-1))   \n",
        "\n",
        "plt.show()"
      ],
      "metadata": {
        "colab": {
          "base_uri": "https://localhost:8080/",
          "height": 143
        },
        "id": "gux2roGqxRbG",
        "outputId": "aac1f373-fb1d-498c-d243-908827e143a2"
      },
      "execution_count": 39,
      "outputs": [
        {
          "output_type": "display_data",
          "data": {
            "text/plain": [
              "<Figure size 720x720 with 5 Axes>"
            ],
            "image/png": "[encoded data removed]"
          },
          "metadata": {
            "needs_background": "light"
          }
        }
      ]
    },
    {
      "cell_type": "code",
      "source": [
        ""
      ],
      "metadata": {
        "id": "WzavdgYrxZde"
      },
      "execution_count": 39,
      "outputs": []
    }
  ],
  "metadata": {
    "colab": {
      "name": "Ch7_2_2",
      "provenance": [],
      "collapsed_sections": []
    },
    "kernelspec": {
      "display_name": "Python 3",
      "language": "python",
      "name": "python3"
    },
    "language_info": {
      "codemirror_mode": {
        "name": "ipython",
        "version": 3
      },
      "file_extension": ".py",
      "mimetype": "text/x-python",
      "name": "python",
      "nbconvert_exporter": "python",
      "pygments_lexer": "ipython3",
      "version": "3.7.4"
    }
  },
  "nbformat": 4,
  "nbformat_minor": 0
}