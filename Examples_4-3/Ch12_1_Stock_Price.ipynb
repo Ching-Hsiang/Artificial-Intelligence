{
  "nbformat": 4,
  "nbformat_minor": 0,
  "metadata": {
    "colab": {
      "name": "Ch12_1_Stock_Price",
      "provenance": [],
      "collapsed_sections": []
    },
    "kernelspec": {
      "name": "python3",
      "display_name": "Python 3"
    },
    "accelerator": "GPU"
  },
  "cells": [
    {
      "cell_type": "code",
      "source": [
        "import numpy as np\n",
        "import pandas as pd\n",
        "from sklearn.preprocessing import MinMaxScaler\n",
        "from tensorflow.keras.models import Sequential\n",
        "from tensorflow.keras.layers import Dense, Dropout, LSTM\n",
        "\n",
        "import matplotlib.pyplot as plt"
      ],
      "metadata": {
        "id": "59bwnLfSB7yh"
      },
      "execution_count": null,
      "outputs": []
    },
    {
      "cell_type": "markdown",
      "source": [
        "## 資料集準備"
      ],
      "metadata": {
        "id": "JgBoOMTWc-ke"
      }
    },
    {
      "cell_type": "code",
      "source": [
        "# Google股價資料可以從美國Yahoo金融網站下載：https://finance.yahoo.com/quote/GOOG/\n",
        "# 訓練資料集2012/01/01-2016/12/31\n",
        "# 測試資料集2017/01/01-2017/4/30\n",
        "\n",
        "# 載入Google股價的訓練資料集\n",
        "df_train = pd.read_csv(\"GOOG_Stock_Price_Train.csv\",index_col=\"Date\",parse_dates=True)\n",
        "df_train.head()"
      ],
      "metadata": {
        "id": "BNAQwsSAGqL3"
      },
      "execution_count": null,
      "outputs": []
    },
    {
      "cell_type": "code",
      "source": [
        "X_train_set = df_train.iloc[:,4:5].values  # Adj Close欄位\n",
        "X_train_len = len(X_train_set)\n",
        "print(\"筆數: \", X_train_len)"
      ],
      "metadata": {
        "id": "RbznHwTPbPk0"
      },
      "execution_count": null,
      "outputs": []
    },
    {
      "cell_type": "code",
      "source": [
        "# 產生特徵資料和標籤資料\n",
        "def create_dataset(ds, look_back=1):\n",
        "  X_data, Y_data = [],[]\n",
        "  for i in range(len(ds)-look_back):\n",
        "    X_data.append(ds[i:(i+look_back), 0])\n",
        "    Y_data.append(ds[i+look_back, 0])\n",
        "  \n",
        "  return np.array(X_data), np.array(Y_data)"
      ],
      "metadata": {
        "id": "nBOe66JgcUEb"
      },
      "execution_count": null,
      "outputs": []
    },
    {
      "cell_type": "code",
      "source": [
        "# 設定回看天數\n",
        "look_back = 60\n",
        "\n",
        "X_train, Y_train = create_dataset(X_train_set, look_back)\n",
        "print(\"回看天數:\", look_back)\n",
        "print(\"X_train.shape: \", X_train.shape)\n",
        "print(\"Y_train.shape: \", Y_train.shape)\n",
        "print(X_train[0])\n",
        "print(X_train[1])\n",
        "print(Y_train[0])"
      ],
      "metadata": {
        "id": "EEqXrgvecepK"
      },
      "execution_count": null,
      "outputs": []
    },
    {
      "cell_type": "code",
      "source": [
        "np.random.seed(10)  # 指定亂數種子"
      ],
      "metadata": {
        "id": "dTWqT8m2dGH6"
      },
      "execution_count": null,
      "outputs": []
    },
    {
      "cell_type": "code",
      "source": [
        "# 特徵標準化 - 正規化\n",
        "sc = MinMaxScaler() \n",
        "X_train_set = sc.fit_transform(X_train_set)"
      ],
      "metadata": {
        "id": "52IvlqZxdHkQ"
      },
      "execution_count": null,
      "outputs": []
    },
    {
      "cell_type": "code",
      "source": [
        "# 分割成特徵資料和標籤資料\n",
        "X_train, Y_train = create_dataset(X_train_set, look_back)\n",
        "# 轉換成(樣本數, 時步, 特徵)張量\n",
        "X_train = np.reshape(X_train, (X_train.shape[0], X_train.shape[1], 1))\n",
        "print(\"X_train.shape: \", X_train.shape)\n",
        "print(\"Y_train.shape: \", Y_train.shape)"
      ],
      "metadata": {
        "id": "RoFm3P5MdULY"
      },
      "execution_count": null,
      "outputs": []
    },
    {
      "cell_type": "markdown",
      "source": [
        "## 打造LSTM模型預測google股價"
      ],
      "metadata": {
        "id": "QA-QaFjQdCMa"
      }
    },
    {
      "cell_type": "code",
      "source": [
        "# 定義模型\n",
        "model = Sequential()\n",
        "model.add(LSTM(50, return_sequences=True,input_shape=(X_train.shape[1], 1)))\n",
        "model.add(Dropout(0.2))\n",
        "model.add(LSTM(50, return_sequences=True))\n",
        "model.add(Dropout(0.2))\n",
        "model.add(LSTM(50))\n",
        "model.add(Dropout(0.2))\n",
        "model.add(Dense(1))\n",
        "model.summary()   # 顯示模型摘要資訊"
      ],
      "metadata": {
        "id": "MMcyW7fgeC7w"
      },
      "execution_count": null,
      "outputs": []
    },
    {
      "cell_type": "code",
      "source": [
        "# 編譯模型\n",
        "model.compile(loss=\"mse\", optimizer=\"adam\")\n",
        "# 訓練模型\n",
        "model.fit(X_train, Y_train, epochs=100, batch_size=32)"
      ],
      "metadata": {
        "id": "a5-RsHrbeKX5"
      },
      "execution_count": null,
      "outputs": []
    },
    {
      "cell_type": "code",
      "source": [
        "# 使用模型預測股價 - 2017年1~3月預測 4月份股價\n",
        "df_test = pd.read_csv(\"GOOG_Stock_Price_Test.csv\")\n",
        "X_test_set = df_test.iloc[:,4:5].values\n",
        "X_test_set = sc.transform(X_test_set) # 特徵標準化\n",
        "# 產生特徵資料和標籤資料\n",
        "X_test, Y_test = create_dataset(X_test_set, look_back)\n",
        "# 轉換成(樣本數, 時步, 特徵)張量\n",
        "X_test = np.reshape(X_test, (X_test.shape[0], X_test.shape[1], 1))"
      ],
      "metadata": {
        "id": "q4ozzvQUfteD"
      },
      "execution_count": null,
      "outputs": []
    },
    {
      "cell_type": "code",
      "source": [
        "X_test_pred = model.predict(X_test)\n",
        "# 將（被標準化過的）預測值與實際值轉換回真實股價數值\n",
        "X_test_pred_price = sc.inverse_transform(X_test_pred)\n",
        "Y_test_price = sc.inverse_transform(Y_test.reshape(-1, 1))"
      ],
      "metadata": {
        "id": "XGHB8TXHfzrb"
      },
      "execution_count": null,
      "outputs": []
    },
    {
      "cell_type": "code",
      "source": [
        "# 繪出股價圖表\n",
        "plt.plot(Y_test_price, color=\"red\", label=\"Real Stock Price\")\n",
        "plt.plot(X_test_pred_price, color=\"blue\", label=\"Predicted Stock Price\")\n",
        "plt.title(\"2017 Google Stock Price Prediction\")\n",
        "plt.xlabel(\"Time\")\n",
        "plt.ylabel(\"Google Time Price\")\n",
        "plt.legend()\n",
        "plt.show()"
      ],
      "metadata": {
        "id": "cswSoxx4hNsa"
      },
      "execution_count": null,
      "outputs": []
    },
    {
      "cell_type": "code",
      "source": [
        "# 儲存Keras模型\n",
        "model.save(\"LSTM_StockPrice.h5\")"
      ],
      "metadata": {
        "id": "2DH-eFu9qyJ6"
      },
      "execution_count": null,
      "outputs": []
    },
    {
      "cell_type": "markdown",
      "source": [
        "\n",
        "\n",
        "---\n",
        "\n"
      ],
      "metadata": {
        "id": "Z7FJdntlqzX-"
      }
    },
    {
      "cell_type": "markdown",
      "source": [
        "## 作業：實作案例 蘋果公司美股股價預測 (美股代號: AAPL)\n",
        "#### 蒐集過去五年的股價資料建立並訓練模型\n",
        "#### 以今年初到四月底的股價為預測資料\n",
        "#### 回看60筆數據（一季1~3月)，來預測後續(4月份)價格走勢\n",
        "##### 訓練資料2017/01/01-2021/12/31\n",
        "##### 測試資料2022/01/01-2022/4/30"
      ],
      "metadata": {
        "id": "4YI4_NOoop0E"
      }
    },
    {
      "cell_type": "code",
      "source": [
        "from sklearn.metrics import r2_score"
      ],
      "metadata": {
        "id": "BILzI52hl7eW"
      },
      "execution_count": null,
      "outputs": []
    },
    {
      "cell_type": "code",
      "source": [
        "r2_score(Y_test, X_test_pred)"
      ],
      "metadata": {
        "id": "-hupuh13nJBq"
      },
      "execution_count": null,
      "outputs": []
    },
    {
      "cell_type": "code",
      "source": [
        "# 作業計算公式\n",
        "score_upperB = 100\n",
        "score_lowerB = 50\n",
        "score = score_lowerB+((score_upperB-score_lowerB)*(r2_score(Y_test, X_test_pred)))\n",
        "\n",
        "print(round(score,1))"
      ],
      "metadata": {
        "id": "usF1QoWmnOWA"
      },
      "execution_count": null,
      "outputs": []
    },
    {
      "cell_type": "code",
      "source": [
        ""
      ],
      "metadata": {
        "id": "rmGca4HPrtBC"
      },
      "execution_count": null,
      "outputs": []
    }
  ]
}