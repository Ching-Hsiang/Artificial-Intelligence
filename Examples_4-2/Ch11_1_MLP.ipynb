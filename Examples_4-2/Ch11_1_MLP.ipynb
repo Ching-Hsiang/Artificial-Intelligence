{
  "nbformat": 4,
  "nbformat_minor": 0,
  "metadata": {
    "colab": {
      "name": "Ch11_1_MLP",
      "provenance": [],
      "collapsed_sections": []
    },
    "kernelspec": {
      "name": "python3",
      "display_name": "Python 3"
    },
    "accelerator": "GPU"
  },
  "cells": [
    {
      "cell_type": "markdown",
      "source": [
        "## 資料集準備及說明"
      ],
      "metadata": {
        "id": "dnrc7qL07Srb"
      }
    },
    {
      "cell_type": "code",
      "metadata": {
        "id": "7toR8Z6WnNtV"
      },
      "source": [
        "import tensorflow\n",
        "from tensorflow.keras.datasets import imdb\n",
        "from tensorflow.keras.preprocessing import sequence\n",
        "from tensorflow.keras.models import Sequential\n",
        "from tensorflow.keras.layers import Dense, Dropout, Embedding, Flatten\n",
        "\n",
        "import numpy as np"
      ],
      "execution_count": null,
      "outputs": []
    },
    {
      "cell_type": "code",
      "source": [
        "# 載入 IMDb 資料集, 如果是第一次載入會自行下載資料集\n",
        "top_words = 1000 #最大單字量設定為1000\n",
        "(X_train, Y_train), (X_test, Y_test) = imdb.load_data(num_words=top_words)"
      ],
      "metadata": {
        "id": "M7RwVtfY5ZDb"
      },
      "execution_count": null,
      "outputs": []
    },
    {
      "cell_type": "code",
      "source": [
        "# 形狀\n",
        "print(\"X_train.shape: \", X_train.shape)\n",
        "print(\"Y_train.shape: \", Y_train.shape)\n",
        "print(\"X_test.shape: \", X_test.shape)\n",
        "print(\"Y_test.shape: \", Y_test.shape)"
      ],
      "metadata": {
        "id": "5lzDMxeO5bIP"
      },
      "execution_count": null,
      "outputs": []
    },
    {
      "cell_type": "code",
      "source": [
        "# 顯示 Numpy 陣列內容\n",
        "print(X_train[0])\n",
        "print(Y_train[0])   # 標籤資料"
      ],
      "metadata": {
        "id": "ktU10yHW5dIR"
      },
      "execution_count": null,
      "outputs": []
    },
    {
      "cell_type": "code",
      "source": [
        "# 最大的單字索引值\n",
        "max_index = max(max(sequence) for sequence in X_train)\n",
        "print(\"Max Index: \", max_index)"
      ],
      "metadata": {
        "id": "tYHf3o0B5e_o"
      },
      "execution_count": null,
      "outputs": []
    },
    {
      "cell_type": "code",
      "source": [
        "# 建立評論文字的解碼字典\n",
        "word_index = imdb.get_word_index()\n",
        "we_index = word_index[\"we\"]\n",
        "print(\"'we' index:\", we_index)"
      ],
      "metadata": {
        "id": "kcEJ2DX85fZr"
      },
      "execution_count": null,
      "outputs": []
    },
    {
      "cell_type": "code",
      "source": [
        "# 使用index反查字典後，顯示該單字為何\n",
        "decode_word_map = dict([(value, key) for (key, value) in word_index.items()])\n",
        "print(decode_word_map[we_index])"
      ],
      "metadata": {
        "id": "4C3toiHn5xnk"
      },
      "execution_count": null,
      "outputs": []
    },
    {
      "cell_type": "code",
      "source": [
        "# 解碼顯示評論文字內容\n",
        "decoded_indices = [decode_word_map.get(i-3, \"?\") for i in X_train[0]]\n",
        "print(decoded_indices)\n",
        "decoded_review = \" \".join(decoded_indices)\n",
        "print(decoded_review)"
      ],
      "metadata": {
        "id": "6X1eBADT5nmW"
      },
      "execution_count": null,
      "outputs": []
    },
    {
      "cell_type": "code",
      "source": [
        "# 文字資料預處理\n",
        "max_words = 100 #設定每篇文章讀取前100個單字（不足數量的填補、超過數量的截斷）\n",
        "\n",
        "X_train = sequence.pad_sequences(X_train, maxlen=max_words)\n",
        "X_test = sequence.pad_sequences(X_test, maxlen=max_words)\n",
        "\n",
        "print(\"X_train.shape: \", X_train.shape)\n",
        "print(\"X_test.shape: \", X_test.shape)"
      ],
      "metadata": {
        "id": "0b_G8NwT6i59"
      },
      "execution_count": null,
      "outputs": []
    },
    {
      "cell_type": "code",
      "source": [
        "print(X_train[0])"
      ],
      "metadata": {
        "id": "__rYjUqT7Deq"
      },
      "execution_count": null,
      "outputs": []
    },
    {
      "cell_type": "markdown",
      "source": [
        "## 搭建MLP模型"
      ],
      "metadata": {
        "id": "t83a7bCN7eCe"
      }
    },
    {
      "cell_type": "code",
      "source": [
        "seed = 10\n",
        "np.random.seed(seed)  # 指定亂數種子"
      ],
      "metadata": {
        "id": "seYTyXiM8-Dz"
      },
      "execution_count": null,
      "outputs": []
    },
    {
      "cell_type": "code",
      "source": [
        "# 定義模型\n",
        "model = Sequential()\n",
        "model.add(Embedding(top_words, 32, input_length=max_words)) #Embedding層將文字向量化，必須為第一層\n",
        "model.add(Dropout(0.25))\n",
        "model.add(Flatten())\n",
        "model.add(Dense(256, activation=\"relu\"))\n",
        "model.add(Dropout(0.25))\n",
        "model.add(Dense(1, activation=\"sigmoid\"))\n",
        "model.summary()   # 顯示模型摘要資訊"
      ],
      "metadata": {
        "id": "o0b-XADh7DwA"
      },
      "execution_count": null,
      "outputs": []
    },
    {
      "cell_type": "code",
      "source": [
        "# 編譯模型\n",
        "model.compile(loss=\"binary_crossentropy\", optimizer=\"adam\",metrics=[\"accuracy\"])\n",
        "# 訓練模型\n",
        "history = model.fit(X_train, Y_train, validation_split=0.2, epochs=10, batch_size=128, verbose=2)"
      ],
      "metadata": {
        "id": "OVizeUZt72Xy"
      },
      "execution_count": null,
      "outputs": []
    },
    {
      "cell_type": "code",
      "source": [
        "# 評估模型\n",
        "loss, accuracy = model.evaluate(X_test, Y_test, verbose=0)\n",
        "print(\"測試資料集的準確度 = {:.2f}\".format(accuracy))"
      ],
      "metadata": {
        "id": "desbgZuK77mK"
      },
      "execution_count": null,
      "outputs": []
    },
    {
      "cell_type": "markdown",
      "source": [
        "## max_words改用500，每篇文章讀取更多單字"
      ],
      "metadata": {
        "id": "k0IbQGkA8hq3"
      }
    },
    {
      "cell_type": "code",
      "source": [
        "# 資料預處理 設定每篇文章讀取前500個單字\n",
        "max_words = 500\n",
        "X_train = sequence.pad_sequences(X_train, maxlen=max_words)\n",
        "X_test = sequence.pad_sequences(X_test, maxlen=max_words)"
      ],
      "metadata": {
        "id": "QoqjxJub8uIu"
      },
      "execution_count": null,
      "outputs": []
    },
    {
      "cell_type": "code",
      "source": [
        "# 定義模型\n",
        "model = Sequential()\n",
        "model.add(Embedding(top_words, 32, input_length=max_words)) #Embedding層將文字向量化，必須為第一層\n",
        "model.add(Dropout(0.25))\n",
        "model.add(Flatten())\n",
        "model.add(Dense(256, activation=\"relu\"))\n",
        "model.add(Dropout(0.25))\n",
        "model.add(Dense(1, activation=\"sigmoid\"))\n",
        "model.summary()   # 顯示模型摘要資訊"
      ],
      "metadata": {
        "id": "OKUBB9Lx9CFN"
      },
      "execution_count": null,
      "outputs": []
    },
    {
      "cell_type": "code",
      "source": [
        "# 編譯模型\n",
        "model.compile(loss=\"binary_crossentropy\", optimizer=\"adam\",metrics=[\"accuracy\"])\n",
        "# 訓練模型\n",
        "history = model.fit(X_train, Y_train, validation_split=0.2, epochs=10, batch_size=128, verbose=2)"
      ],
      "metadata": {
        "id": "CDH31EE29CFO"
      },
      "execution_count": null,
      "outputs": []
    },
    {
      "cell_type": "code",
      "source": [
        "# 評估模型\n",
        "loss, accuracy = model.evaluate(X_test, Y_test, verbose=0)\n",
        "print(\"測試資料集的準確度 = {:.2f}\".format(accuracy))"
      ],
      "metadata": {
        "id": "SeMRF3QG9CFO"
      },
      "execution_count": null,
      "outputs": []
    },
    {
      "cell_type": "markdown",
      "source": [
        "## top_words設定成10000，表示字典的單字量為10000個\n",
        "## max_words設定500，每篇文章讀取500個單字\n",
        "## MLP模型設定兩層隱藏層，各128個神經元"
      ],
      "metadata": {
        "id": "5opdqUsQ9fkF"
      }
    },
    {
      "cell_type": "code",
      "source": [
        "# 載入 IMDb 資料集\n",
        "top_words = 10000\n",
        "(X_train, Y_train), (X_test, Y_test) = imdb.load_data(num_words=top_words)\n",
        "# 資料預處理\n",
        "max_words = 500\n",
        "X_train = sequence.pad_sequences(X_train, maxlen=max_words)\n",
        "X_test = sequence.pad_sequences(X_test, maxlen=max_words)"
      ],
      "metadata": {
        "id": "GsT6vt7I97DJ"
      },
      "execution_count": null,
      "outputs": []
    },
    {
      "cell_type": "code",
      "source": [
        "# 定義模型\n",
        "model = Sequential()\n",
        "model.add(Embedding(top_words, 32, input_length=max_words))\n",
        "model.add(Dropout(0.25))\n",
        "model.add(Flatten())\n",
        "model.add(Dense(128, activation=\"relu\"))\n",
        "model.add(Dropout(0.25))\n",
        "model.add(Dense(128, activation=\"relu\"))\n",
        "model.add(Dropout(0.25))\n",
        "model.add(Dense(1, activation=\"sigmoid\"))\n",
        "model.summary()   # 顯示模型摘要資訊"
      ],
      "metadata": {
        "id": "eZYOc9p8-OsN"
      },
      "execution_count": null,
      "outputs": []
    },
    {
      "cell_type": "code",
      "source": [
        "# 編譯模型\n",
        "model.compile(loss=\"binary_crossentropy\", optimizer=\"adam\",metrics=[\"accuracy\"])\n",
        "# 訓練模型\n",
        "history = model.fit(X_train, Y_train, validation_split=0.2, epochs=10, batch_size=128, verbose=2)"
      ],
      "metadata": {
        "id": "7lyvfm9H-WyI"
      },
      "execution_count": null,
      "outputs": []
    },
    {
      "cell_type": "code",
      "source": [
        "# 評估模型\n",
        "loss, accuracy = model.evaluate(X_test, Y_test, verbose=0)\n",
        "print(\"測試資料集的準確度 = {:.2f}\".format(accuracy))"
      ],
      "metadata": {
        "id": "_k8ktPE0-WyI"
      },
      "execution_count": null,
      "outputs": []
    }
  ]
}