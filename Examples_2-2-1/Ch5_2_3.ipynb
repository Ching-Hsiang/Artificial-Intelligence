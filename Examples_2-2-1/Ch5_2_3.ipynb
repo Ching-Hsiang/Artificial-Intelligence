{
  "cells": [
    {
      "cell_type": "code",
      "execution_count": null,
      "metadata": {
        "id": "YKyrRs9SHKh3"
      },
      "outputs": [],
      "source": [
        "import numpy as np\n",
        "import pandas as pd\n",
        "from tensorflow.keras.models import Sequential\n",
        "from tensorflow.keras.layers import Dense"
      ]
    },
    {
      "cell_type": "code",
      "execution_count": null,
      "metadata": {
        "id": "0yQJECERRmSF"
      },
      "outputs": [],
      "source": [
        "np.random.seed(10)  # 指定亂數種子\n",
        "# 載入糖尿病資料集\n",
        "df = pd.read_csv(\"./diabetes.csv\")\n",
        "df.head()"
      ]
    },
    {
      "cell_type": "code",
      "source": [
        "dataset = df.values\n",
        "np.random.shuffle(dataset)  # 使用亂數打亂資料\n",
        "# 分割成輸入的訓練資料和標籤資料\n",
        "X = dataset[:, 0:8]\n",
        "Y = dataset[:, 8]"
      ],
      "metadata": {
        "id": "WcwjtNHjSWVo"
      },
      "execution_count": null,
      "outputs": []
    },
    {
      "cell_type": "code",
      "source": [
        "# 特徵標準化\n",
        "X -= X.mean(axis=0)\n",
        "X /= X.std(axis=0)"
      ],
      "metadata": {
        "id": "Y-hvG2RNTwsg"
      },
      "execution_count": null,
      "outputs": []
    },
    {
      "cell_type": "code",
      "source": [
        "# 定義模型\n",
        "model = Sequential()\n",
        "model.add(Dense(10, input_shape=(8,), activation=\"relu\"))\n",
        "model.add(Dense(8, activation=\"relu\"))\n",
        "model.add(Dense(1, activation=\"sigmoid\"))\n",
        "#model.summary()  # 顯示模型摘要資訊"
      ],
      "metadata": {
        "id": "VCYpMGBnSZcN"
      },
      "execution_count": null,
      "outputs": []
    },
    {
      "cell_type": "code",
      "source": [
        "# 編譯模型\n",
        "model.compile(loss=\"binary_crossentropy\", optimizer=\"sgd\",\n",
        "              metrics=[\"accuracy\"])"
      ],
      "metadata": {
        "id": "42bnPMKfSbgS"
      },
      "execution_count": null,
      "outputs": []
    },
    {
      "cell_type": "code",
      "source": [
        "# 訓練模型\n",
        "model.fit(X, Y, epochs=150, batch_size=10, verbose=1)"
      ],
      "metadata": {
        "id": "ndR2HMIlSc2G"
      },
      "execution_count": null,
      "outputs": []
    },
    {
      "cell_type": "code",
      "source": [
        "# 評估模型\n",
        "loss, accuracy = model.evaluate(X, Y)\n",
        "print(\"準確度 = {:.2f}\".format(accuracy))"
      ],
      "metadata": {
        "id": "zdv-_jakSeKA"
      },
      "execution_count": null,
      "outputs": []
    }
  ],
  "metadata": {
    "colab": {
      "name": "Ch5_2_3.ipynb",
      "provenance": [],
      "collapsed_sections": []
    },
    "kernelspec": {
      "display_name": "Python 3",
      "language": "python",
      "name": "python3"
    },
    "language_info": {
      "codemirror_mode": {
        "name": "ipython",
        "version": 3
      },
      "file_extension": ".py",
      "mimetype": "text/x-python",
      "name": "python",
      "nbconvert_exporter": "python",
      "pygments_lexer": "ipython3",
      "version": "3.7.4"
    },
    "accelerator": "GPU"
  },
  "nbformat": 4,
  "nbformat_minor": 0
}