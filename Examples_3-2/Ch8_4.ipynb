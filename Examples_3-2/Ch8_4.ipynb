{
  "cells": [
    {
      "cell_type": "code",
      "source": [
        "import numpy as np\n",
        "import pandas as pd\n",
        "from tensorflow.keras.models import Sequential\n",
        "from tensorflow.keras.layers import Dense\n",
        "from tensorflow.keras.layers import Flatten\n",
        "from tensorflow.keras.layers import Conv2D\n",
        "from tensorflow.keras.layers import MaxPooling2D\n",
        "from tensorflow.keras.layers import Dropout\n",
        "from tensorflow.keras.utils import to_categorical\n",
        "from tensorflow.keras.models import load_model\n",
        "import matplotlib.pyplot as plt\n",
        "\n",
        "from tensorflow.keras.datasets import mnist"
      ],
      "metadata": {
        "id": "0BYRhIjgoKoz"
      },
      "execution_count": null,
      "outputs": []
    },
    {
      "cell_type": "code",
      "source": [
        "# 指定亂數種子\n",
        "seed = 7\n",
        "np.random.seed(seed)"
      ],
      "metadata": {
        "id": "wYGflrjHnvET"
      },
      "execution_count": null,
      "outputs": []
    },
    {
      "cell_type": "code",
      "source": [
        "# 載入 MNIST 資料集, 如果是第一次載入會自行下載資料集\n",
        "(X_train, Y_train), (X_test, Y_test) = mnist.load_data()"
      ],
      "metadata": {
        "id": "d-WipBWhoOKT"
      },
      "execution_count": null,
      "outputs": []
    },
    {
      "cell_type": "code",
      "source": [
        "X_test_bk = X_test.copy()   # 備份 X_test 資料集 (為了最後推論模型用)\n",
        "Y_test_bk = Y_test.copy()   # 備份 Y_test 資料集 "
      ],
      "metadata": {
        "id": "pr9juhv13cgF"
      },
      "execution_count": null,
      "outputs": []
    },
    {
      "cell_type": "markdown",
      "source": [
        "## 圖檔前處理"
      ],
      "metadata": {
        "id": "DwxtcKfdoAKV"
      }
    },
    {
      "cell_type": "code",
      "source": [
        "# 將圖片轉換成 4D 張量 (與MLP所使用的不同)\n",
        "X_train = X_train.reshape(X_train.shape[0], 28, 28, 1).astype(\"float32\")\n",
        "X_test = X_test.reshape(X_test.shape[0], 28, 28, 1).astype(\"float32\")\n",
        "print(\"X_train Shape: \", X_train.shape)\n",
        "print(\"X_test Shape: \", X_test.shape)"
      ],
      "metadata": {
        "id": "3Yf9JZ63nkzw"
      },
      "execution_count": null,
      "outputs": []
    },
    {
      "cell_type": "code",
      "source": [
        "# 因為是固定範圍, 所以執行正規化, 從 0-255 至 0-1\n",
        "X_train = X_train / 255\n",
        "X_test = X_test / 255"
      ],
      "metadata": {
        "id": "5vS3CFBNoJXf"
      },
      "execution_count": null,
      "outputs": []
    },
    {
      "cell_type": "code",
      "source": [
        "# One-hot編碼\n",
        "Y_train = to_categorical(Y_train)\n",
        "Y_test = to_categorical(Y_test)"
      ],
      "metadata": {
        "id": "ckqIiBqYoMGt"
      },
      "execution_count": null,
      "outputs": []
    },
    {
      "cell_type": "markdown",
      "source": [
        "## 訓練CNN模型"
      ],
      "metadata": {
        "id": "NjkbaSU9o1QD"
      }
    },
    {
      "cell_type": "code",
      "source": [
        "model = Sequential()\n",
        "model.add(Conv2D(32, kernel_size=(3, 3), padding=\"same\", input_shape=X_train.shape[1:], activation=\"relu\"))\n",
        "model.add(MaxPooling2D(pool_size=(2, 2)))\n",
        "model.add(Dropout(0.25))\n",
        "model.add(Conv2D(64, kernel_size=(3, 3), padding=\"same\", activation=\"relu\"))\n",
        "model.add(MaxPooling2D(pool_size=(2, 2)))\n",
        "model.add(Dropout(0.25))\n",
        "model.add(Flatten())\n",
        "model.add(Dense(512, activation=\"relu\"))\n",
        "model.add(Dropout(0.5))\n",
        "model.add(Dense(10, activation=\"softmax\"))\n",
        "model.summary()   # 顯示模型摘要資訊"
      ],
      "metadata": {
        "id": "-0mpRoFPoOM_"
      },
      "execution_count": null,
      "outputs": []
    },
    {
      "cell_type": "code",
      "source": [
        "# 編譯模型\n",
        "model.compile(loss=\"categorical_crossentropy\", optimizer=\"adam\", metrics=[\"accuracy\"])"
      ],
      "metadata": {
        "id": "0AUvqZ0doi_9"
      },
      "execution_count": null,
      "outputs": []
    },
    {
      "cell_type": "code",
      "source": [
        "# 訓練模型\n",
        "history = model.fit(X_train, Y_train, validation_split=0.2, epochs=10, batch_size=128, verbose=2)"
      ],
      "metadata": {
        "id": "RZMOkOp0olc_"
      },
      "execution_count": null,
      "outputs": []
    },
    {
      "cell_type": "code",
      "source": [
        "# 評估模型\n",
        "print(\"\\nTesting ...\")\n",
        "loss, accuracy = model.evaluate(X_train, Y_train, verbose=0)\n",
        "print(\"訓練資料集的準確度 = {:.4f}\".format(accuracy))\n",
        "loss, accuracy = model.evaluate(X_test, Y_test, verbose=0)\n",
        "print(\"測試資料集的準確度 = {:.4f}\".format(accuracy))"
      ],
      "metadata": {
        "id": "NYnkRhHNon5l"
      },
      "execution_count": null,
      "outputs": []
    },
    {
      "cell_type": "code",
      "source": [
        "# 計算分類的預測值\n",
        "print(\"\\nPredicting ...\")\n",
        "Y_pred = model.predict(X_test)\n",
        "Y_pred_classes=np.argmax(Y_pred,axis=1)\n",
        "\n",
        "# 顯示混淆矩陣\n",
        "tb = pd.crosstab(Y_test_bk.astype(int), Y_pred_classes.astype(int), rownames=[\"label\"], colnames=[\"predict\"])\n",
        "print(tb)"
      ],
      "metadata": {
        "id": "9TV3iJRAxhks"
      },
      "execution_count": null,
      "outputs": []
    },
    {
      "cell_type": "code",
      "source": [
        "model.save(\"mnist_cnn.h5\")"
      ],
      "metadata": {
        "id": "iPnlF68Oy3mI"
      },
      "execution_count": null,
      "outputs": []
    },
    {
      "cell_type": "markdown",
      "source": [
        "## 顯示圖表來分析模型的訓練過程"
      ],
      "metadata": {
        "id": "ujD4wLszoxl3"
      }
    },
    {
      "cell_type": "code",
      "source": [
        "# 顯示訓練和驗證損失\n",
        "loss = history.history[\"loss\"]\n",
        "epochs = range(1, len(loss)+1)\n",
        "val_loss = history.history[\"val_loss\"]\n",
        "plt.plot(epochs, loss, \"bo-\", label=\"Training Loss\")\n",
        "plt.plot(epochs, val_loss, \"ro--\", label=\"Validation Loss\")\n",
        "plt.title(\"Training and Validation Loss\")\n",
        "plt.xlabel(\"Epochs\")\n",
        "plt.ylabel(\"Loss\")\n",
        "plt.legend()\n",
        "plt.show()\n"
      ],
      "metadata": {
        "id": "Tfs2Uhk-oqpN"
      },
      "execution_count": null,
      "outputs": []
    },
    {
      "cell_type": "code",
      "source": [
        "# 顯示訓練和驗證準確度\n",
        "acc = history.history[\"accuracy\"]\n",
        "epochs = range(1, len(acc)+1)\n",
        "val_acc = history.history[\"val_accuracy\"]\n",
        "plt.plot(epochs, acc, \"bo-\", label=\"Training Acc\")\n",
        "plt.plot(epochs, val_acc, \"ro--\", label=\"Validation Acc\")\n",
        "plt.title(\"Training and Validation Accuracy\")\n",
        "plt.xlabel(\"Epochs\")\n",
        "plt.ylabel(\"Accuracy\")\n",
        "plt.legend()\n",
        "plt.show()"
      ],
      "metadata": {
        "id": "C34ayxxJoswE"
      },
      "execution_count": null,
      "outputs": []
    },
    {
      "cell_type": "markdown",
      "source": [
        "## 模型推論，辨識照片中的數字為何"
      ],
      "metadata": {
        "id": "sUcK3fpQzBZs"
      }
    },
    {
      "cell_type": "code",
      "source": [
        "# 亂數選一個測試的數字圖片 \n",
        "i = np.random.randint(0, len(X_test))\n",
        "digit = X_test_bk[i].reshape(28, 28)\n",
        "# 將圖片轉換成 4D 張量\n",
        "X_test_digit = X_test_bk[i].reshape(1, 28, 28, 1).astype(\"float32\")\n",
        "# 因為是固定範圍, 所以執行正規化, 從 0-255 至 0-1\n",
        "X_test_digit = X_test_digit / 255"
      ],
      "metadata": {
        "id": "4Elc913wzKy1"
      },
      "execution_count": null,
      "outputs": []
    },
    {
      "cell_type": "code",
      "source": [
        "# 建立Keras的Sequential模型\n",
        "model_inference = Sequential()\n",
        "model_inference = load_model(\"mnist_cnn.h5\")\n",
        "# 編譯模型\n",
        "model_inference.compile(loss=\"categorical_crossentropy\", optimizer=\"adam\", metrics=[\"accuracy\"])"
      ],
      "metadata": {
        "id": "61p33rlVzSw4"
      },
      "execution_count": null,
      "outputs": []
    },
    {
      "cell_type": "code",
      "source": [
        "# 繪出圖表的預測結果\n",
        "plt.figure()\n",
        "plt.title(\"Example of Digit:\" + str(Y_test_bk[i]))\n",
        "plt.imshow(digit, cmap=\"gray\")"
      ],
      "metadata": {
        "id": "GxMQecz7pZJc"
      },
      "execution_count": null,
      "outputs": []
    },
    {
      "cell_type": "code",
      "source": [
        "# 預測結果的機率\n",
        "print(\"Predicting ...\")\n",
        "probs = model_inference.predict(X_test_digit, batch_size=1)\n",
        "print(probs)"
      ],
      "metadata": {
        "id": "eDeIgMq3yt4X"
      },
      "execution_count": null,
      "outputs": []
    },
    {
      "cell_type": "code",
      "source": [
        "# 繪出圖表的預測結果\n",
        "plt.figure()\n",
        "plt.subplot(1,2,1)\n",
        "plt.title(\"Example of Digit:\" + str(Y_test_bk[i]))\n",
        "plt.imshow(digit, cmap=\"gray\")\n",
        "plt.axis(\"off\")\n",
        "plt.subplot(1,2,2)\n",
        "plt.title(\"Probabilities for Each Digit Class\")\n",
        "plt.bar(np.arange(10), probs.reshape(10), align=\"center\")\n",
        "plt.xticks(np.arange(10),np.arange(10).astype(str))\n",
        "plt.show()"
      ],
      "metadata": {
        "id": "ZxHTDxBN0UlW"
      },
      "execution_count": null,
      "outputs": []
    },
    {
      "cell_type": "markdown",
      "source": [
        "## 檢查辨識錯誤的數字圖檔"
      ],
      "metadata": {
        "id": "_iF5zHJq4Jwp"
      }
    },
    {
      "cell_type": "code",
      "source": [
        "# 測試資料集的分類和機率的預測值\n",
        "Y_pred_probs = model_inference.predict(X_test)     # 預測機率\n",
        "Y_pred_classes= np.argmax(Y_pred_probs,axis=1)   # 轉成分類"
      ],
      "metadata": {
        "id": "vYMXlehj4Q5W"
      },
      "execution_count": null,
      "outputs": []
    },
    {
      "cell_type": "code",
      "source": [
        "# 建立分類錯誤的 DataFrame 物件\n",
        "df = pd.DataFrame({\"label\":Y_test_bk, \"predict\":Y_pred_classes})\n",
        "df = df[Y_test_bk!=Y_pred_classes]  # 篩選出分類錯誤的資料\n",
        "print(df.head()) # 看前五筆分類錯誤"
      ],
      "metadata": {
        "id": "ldp6PPu34gMu"
      },
      "execution_count": null,
      "outputs": []
    },
    {
      "cell_type": "code",
      "source": [
        "# 隨機選 1 個錯誤分類的數字索引\n",
        "i = df.sample(n=1).index.values.astype(int)[0]\n",
        "print(\"Index: \", i)\n",
        "digit = X_test_bk[i].reshape(28, 28) \n",
        "# 繪出圖表的預測結果\n",
        "plt.figure()\n",
        "plt.subplot(1,2,1)\n",
        "plt.title(\"Example of Digit:\" + str(Y_test_bk[i]))\n",
        "plt.imshow(digit, cmap=\"gray\")\n",
        "plt.axis(\"off\")\n",
        "plt.subplot(1,2,2)\n",
        "plt.title(\"Probabilities for Each Digit Class\")\n",
        "plt.bar(np.arange(10), Y_pred_probs[i].reshape(10), align=\"center\")\n",
        "plt.xticks(np.arange(10),np.arange(10).astype(str))\n",
        "plt.show()"
      ],
      "metadata": {
        "id": "-TNH4MP20eD_"
      },
      "execution_count": null,
      "outputs": []
    },
    {
      "cell_type": "code",
      "source": [
        "# 預測錯誤的筆數\n",
        "len(df)"
      ],
      "metadata": {
        "id": "uA5fdPs55IDM"
      },
      "execution_count": null,
      "outputs": []
    },
    {
      "cell_type": "code",
      "source": [
        "# 作業計算公式\n",
        "base = 80\n",
        "score_upperB = 100\n",
        "score_lowerB = 80\n",
        "score = 100-((score_upperB-score_lowerB)*(len(df)/base))\n",
        "\n",
        "print(score)"
      ],
      "metadata": {
        "id": "oFUh5T899YCZ"
      },
      "execution_count": null,
      "outputs": []
    },
    {
      "cell_type": "code",
      "source": [
        ""
      ],
      "metadata": {
        "id": "J7_6HTHC_P8j"
      },
      "execution_count": null,
      "outputs": []
    }
  ],
  "metadata": {
    "colab": {
      "name": "Ch8_4",
      "provenance": [],
      "collapsed_sections": []
    },
    "kernelspec": {
      "display_name": "Python 3",
      "language": "python",
      "name": "python3"
    },
    "language_info": {
      "codemirror_mode": {
        "name": "ipython",
        "version": 3
      },
      "file_extension": ".py",
      "mimetype": "text/x-python",
      "name": "python",
      "nbconvert_exporter": "python",
      "pygments_lexer": "ipython3",
      "version": "3.7.4"
    },
    "accelerator": "GPU"
  },
  "nbformat": 4,
  "nbformat_minor": 0
}